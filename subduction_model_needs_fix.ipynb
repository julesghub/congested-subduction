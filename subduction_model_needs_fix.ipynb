{
 "cells": [
  {
   "cell_type": "markdown",
   "metadata": {
    "lines_to_next_cell": 0
   },
   "source": [
    "Dynamics of continental accretion\n",
    "======\n",
    "\n",
    "This notebook outlines the Underworld model used in the Moresi (2014) paper 'Dynamics of continental accretion'. It reproduces the initial conditions shown in Extended Data Figure 1 and 2 and the numerics required for reproduce Figure 2.\n",
    "\n",
    "\"In order to better understand the behaviour of this ancient plate mar- gin and the growth of the Australian continent, we use three-dimensional (3D) dynamic models of a subducting slab, overriding plate and mantle, building on previous work14–16. The models have a four-layer subduct- ing plate with buoyancy and rheology of each layer pre-calculated from a half-space cooling model of 80 or 120 Myr age, and they include either a weak or a strong viscoplastic overriding plate (Table 1 and Extended Data Figs 1 and 2). The simulations are best understood by viewing movies of the time evolution (Table 1).\"\n",
    "\n",
    "**References**\n",
    "\n",
    "Moresi, L., P. G. Betts, M. S. Miller, and R. A. Cayley. 2014. “Dynamics of Continental Accretion.” Nature 508 (7495): 245–48. [doi:10.1038/nature13033](https://www.nature.com/articles/nature13033)"
   ]
  },
  {
   "cell_type": "code",
   "execution_count": 1,
   "metadata": {
    "lines_to_next_cell": 0
   },
   "outputs": [
    {
     "name": "stdout",
     "output_type": "stream",
     "text": [
      "loaded rc file /opt/venv/lib/python3.7/site-packages/UWGeodynamics/uwgeo-data/uwgeodynamicsrc\n"
     ]
    }
   ],
   "source": [
    "# core UW bit\n",
    "import UWGeodynamics as GEO\n",
    "from UWGeodynamics import visualisation as vis\n",
    "\n",
    "from UWGeodynamics import dimensionalise\n",
    "from UWGeodynamics import non_dimensionalise as nd\n",
    "from underworld import function as fn\n",
    "\n",
    "u = GEO.UnitRegistry\n",
    "#GEO.rcParams['nonlinear.max.iterations'] = 20\n",
    "#GEO.rcParams['initial.nonlinear.max.iterations'] = 20"
   ]
  },
  {
   "cell_type": "code",
   "execution_count": 2,
   "metadata": {},
   "outputs": [],
   "source": [
    "# 3rd party python modules\n",
    "import math\n",
    "import numpy as np\n",
    "import os\n",
    "import scipy"
   ]
  },
  {
   "cell_type": "code",
   "execution_count": 3,
   "metadata": {},
   "outputs": [],
   "source": [
    "gravity = 9.8 * u.meter / u.second**2\n",
    "Tsurf   = 273.15 * u.degK\n",
    "Tint    = 1573.0 * u.degK\n",
    "\n",
    "kappa   = 1e-6   * u.meter**2 / u.second \n",
    "\n",
    "boxLength = 6000.0 * u.kilometer\n",
    "boxHeight =  800.0 * u.kilometer\n",
    "boxWidth  = 3000.0 * u.kilometer\n",
    "\n",
    "dRho =   2900. * u.kilogram / u.meter**3 # matprop.ref_density\n",
    "\n",
    "use_scaling = False\n",
    "\n",
    "# lithostatic pressure for mass-time-length\n",
    "ref_stress = dRho * gravity * boxHeight\n",
    "# viscosity of upper mante for mass-time-length\n",
    "ref_viscosity = 1e20 * u.pascal * u.seconds\n",
    "\n",
    "ref_time        = ref_viscosity/ref_stress\n",
    "ref_length      = boxHeight\n",
    "ref_mass        = (ref_viscosity*ref_length*ref_time).to_base_units()\n",
    "ref_temperature = Tint - Tsurf\n",
    "\n",
    "KL = ref_length       \n",
    "KM = ref_mass         \n",
    "Kt = ref_time\n",
    "KT = ref_temperature\n",
    "\n",
    "if use_scaling:\n",
    "    # Disable internal scaling when using relrho_geo_material_properties.py\n",
    "    KL = 1. * u.meter       \n",
    "    KM = 1. * u.kilogram        \n",
    "    Kt = 1. * u.second\n",
    "    KT = 1. * u.degK\n",
    "\n",
    "scaling_coefficients = GEO.get_coefficients()\n",
    "\n",
    "scaling_coefficients[\"[length]\"] = KL.to_base_units()\n",
    "scaling_coefficients[\"[time]\"]   = Kt.to_base_units()\n",
    "scaling_coefficients[\"[mass]\"]   = KM.to_base_units()\n",
    "scaling_coefficients[\"[temperature]\"]   = KT.to_base_units()\n",
    "\n",
    "if use_scaling:\n",
    "    import relrho_geo_material_properties as matprop\n",
    "else:\n",
    "    import absrho_geo_material_properties as matprop"
   ]
  },
  {
   "cell_type": "code",
   "execution_count": 4,
   "metadata": {},
   "outputs": [],
   "source": [
    "# shortcuts for parallel wrappers\n",
    "barrier = GEO.uw.mpi.barrier\n",
    "rank    = GEO.rank"
   ]
  },
  {
   "cell_type": "markdown",
   "metadata": {},
   "source": [
    "**Setup parameters**\n"
   ]
  },
  {
   "cell_type": "code",
   "execution_count": 5,
   "metadata": {},
   "outputs": [],
   "source": [
    "scr_rtol = 1e-6\n",
    "ang = 20\n",
    "nEls = (30,30)\n",
    "shifted = 650\n",
    "# nEls = (256,96,96)\n",
    "# nEls = (16,10,4)\n",
    "# nEls = (256, 96)\n",
    "# nEls = (128, 48)\n",
    "\n",
    "dim = len(nEls)\n",
    "\n",
    "outputPath = \"scalingoutput\" if use_scaling else \"output\"\n",
    "outputPath = outputPath + \"-\" + str(scr_rtol) + \"-\" + str(ang) + \"-\" + str(shifted) + \"-\"\n",
    "outputPath = outputPath + (f\"{nEls[0]}x{nEls[1]}x{nEls[2]}\" if dim == 3 else f\"{nEls[0]}x{nEls[1]}\")\n",
    "outputPath = outputPath + f\"_np{GEO.size}\""
   ]
  },
  {
   "cell_type": "code",
   "execution_count": 6,
   "metadata": {},
   "outputs": [],
   "source": [
    "outputPath = os.path.join(os.path.abspath(\".\"), outputPath)\n",
    "if rank==0:\n",
    "    if not os.path.exists(outputPath):\n",
    "        os.makedirs(outputPath)\n",
    "barrier()"
   ]
  },
  {
   "cell_type": "markdown",
   "metadata": {},
   "source": [
    "**Create mesh and finite element variables**"
   ]
  },
  {
   "cell_type": "code",
   "execution_count": 7,
   "metadata": {},
   "outputs": [],
   "source": [
    "# Define our vertical unit vector using a python tuple\n",
    "g_mag = 9.8 * u.meter / u.sec**2\n",
    "\n",
    "if dim == 2:\n",
    "    minCoord   = (0., -boxHeight)\n",
    "    maxCoord   = (boxLength, 0.)\n",
    "    g_vec      = ( 0.0, -1.0 * g_mag )\n",
    "    \n",
    "else:\n",
    "    minCoord   = (0., -boxHeight, 0.)\n",
    "    maxCoord   = (boxLength, 0., boxWidth)\n",
    "    g_vec      = ( 0.0, -1.0 * g_mag , 0.0 )\n",
    "    \n",
    "Model = GEO.Model(elementRes = nEls,\n",
    "                  minCoord   = minCoord,\n",
    "                  maxCoord   = maxCoord,\n",
    "                  gravity    = g_vec,\n",
    "                  outputDir  = outputPath)"
   ]
  },
  {
   "cell_type": "code",
   "execution_count": 8,
   "metadata": {},
   "outputs": [],
   "source": [
    "if use_scaling:\n",
    "    Model.defaultStrainRate = 1e-18 / u.second\n",
    "    Model.minViscosity = 1e-2 * u.Pa * u.sec\n",
    "    Model.maxViscosity = 1e5  * u.Pa * u.sec\n",
    "else:\n",
    "    Model.defaultStrainRate = 1e-18 / u.second\n",
    "    Model.minViscosity = 1e18 * u.Pa * u.sec\n",
    "    Model.maxViscosity = 1e25  * u.Pa * u.sec"
   ]
  },
  {
   "cell_type": "code",
   "execution_count": 9,
   "metadata": {},
   "outputs": [
    {
     "name": "stdout",
     "output_type": "stream",
     "text": [
      "Model resolution:\n",
      "200.00 kilometer\n",
      "26.67 kilometer\n"
     ]
    }
   ],
   "source": [
    "resolution = [ abs(Model.maxCoord[d]-Model.minCoord[d])/Model.elementRes[d] for d in range(Model.mesh.dim) ]\n",
    "if rank == 0:\n",
    "    print(\"Model resolution:\")\n",
    "    [ print(f'{d:.2f}') for d in resolution ]"
   ]
  },
  {
   "cell_type": "code",
   "execution_count": 10,
   "metadata": {},
   "outputs": [],
   "source": [
    "# Parameters for the inital material layout\n",
    "\n",
    "# I assume here the origin is a the top, front, middle\n",
    "# 'middle' being the slab hinge at top, front\n",
    "\n",
    "slab_xStart = 2500. * u.kilometer\n",
    "slab_dx = 3000.0 * u.kilometer  # was 7000 km in Moresi 2014\n",
    "slab_dy =  100.0 * u.kilometer\n",
    "slab_dz = 3000.0 * u.kilometer # this is the entire domain width\n",
    "slab_layers = 4\n",
    "\n",
    "slab_crust = 7.0 * u.kilometer\n",
    "\n",
    "\n",
    "backarc_dx = 1200. * u.kilometer\n",
    "backarc_dy =  100. * u.kilometer\n",
    "backarc_xStart = slab_xStart - backarc_dx\n",
    "backarc_layers = 2\n",
    "\n",
    "trans_dx =  350. * u.kilometer\n",
    "trans_dy =  100. * u.kilometer\n",
    "trans_xStart = slab_xStart - backarc_dx - trans_dx\n",
    "trans_layers = 2\n",
    "\n",
    "craton_dx = 750. * u.kilometer\n",
    "craton_dy = 150. * u.kilometer\n",
    "craton_xStart = slab_xStart - backarc_dx - trans_dx - craton_dx\n",
    "craton_layers = 2\n",
    "\n",
    "#ribbon_dx =  500. * u.kilometer\n",
    "#ribbon_dy =   50. * u.kilometer\n",
    "#ribbon_dz = 1500. * u.kilometer \n",
    "#ribbon_xStart = slab_xStart + shifted * u.kilometer\n",
    "\n",
    "bouyStrip_dx = 500. * u.kilometer\n",
    "bouyStrip_dy =  50. * u.kilometer\n",
    "bouyStrip_xStart = slab_xStart + slab_dx - bouyStrip_dx"
   ]
  },
  {
   "cell_type": "code",
   "execution_count": 11,
   "metadata": {},
   "outputs": [],
   "source": [
    "#variables for initialisation of shapes\n",
    "\n",
    "s_y1 = -0*slab_dy # get dimensionality with slab_dy\n",
    "s_y2 = -1*slab_dy/slab_layers\n",
    "s_y3 = -2*slab_dy/slab_layers\n",
    "s_y4 = -3*slab_dy/slab_layers\n",
    "\n",
    "backarc_dx = 1200. * u.kilometer\n",
    "backarc_dy =  100. * u.kilometer\n",
    "backarc_xStart = slab_xStart - backarc_dx\n",
    "backarc_layers = 2\n",
    "dpert = 300 * u.km #dimensionalise(pert, u.km)\n",
    "\n",
    "backarc_y1 = -0.*nd(backarc_dy)/backarc_layers\n",
    "backarc_y2 = -1.*nd(backarc_dy)/backarc_layers\n",
    "\n",
    "trans_y1 = -0.*nd(trans_dy)\n",
    "trans_y2 = -1.*nd(trans_dy)\n",
    "\n",
    "crat_y1 = -0.*nd(craton_dy)\n",
    "crat_y2 = -1.*nd(craton_dy)"
   ]
  },
  {
   "cell_type": "code",
   "execution_count": 12,
   "metadata": {},
   "outputs": [],
   "source": [
    "# general shape functions\n",
    "def slabGeo(x, y, dx, dy):\n",
    "    shape = [ (x,y), (x+dx,y), (x+dx,y-dy), (x,y-dy), (x-dpert,y-dy-dpert), (x-dpert,y-dpert) ]\n",
    "    return GEO.shapes.Polygon(shape)\n",
    "\n",
    "def backarcGeo(x, y, dx, dy):\n",
    "    shape = [ (x,y), (x+dx,y), (x+dx-dy,y-dy), (x,y-dy)]\n",
    "    return GEO.shapes.Polygon(shape)"
   ]
  },
  {
   "cell_type": "code",
   "execution_count": 13,
   "metadata": {},
   "outputs": [],
   "source": [
    "#initialising all features as shapes\n",
    "\n",
    "# define coordinate uw.functions\n",
    "fn_x = GEO.shapes.fn.input()[0]\n",
    "fn_y = GEO.shapes.fn.input()[1]\n",
    "fn_z = GEO.shapes.fn.input()[2]\n",
    "\n",
    "op1 = slabGeo(slab_xStart, s_y1, slab_dx, slab_dy/slab_layers)\n",
    "op1_fin = Model.add_material(name=\"oceanic plate 1\", shape=op1)\n",
    "\n",
    "op2 = slabGeo(slab_xStart, s_y2, slab_dx, slab_dy/slab_layers)\n",
    "op2_fin = Model.add_material(name = \"oceanic plate 2\", shape=op2)\n",
    "\n",
    "op3 = slabGeo(slab_xStart, s_y3, slab_dx, slab_dy/slab_layers)\n",
    "op3_fin = Model.add_material(name = \"oceanic plate 3\", shape=op3)\n",
    "\n",
    "op4 = slabGeo(slab_xStart, s_y4, slab_dx, slab_dy/slab_layers)\n",
    "op4_fin = Model.add_material(name = \"oceanic plate 4\", shape=op4)\n",
    "\n",
    "ba1 = backarcGeo(backarc_xStart, 0.*u.km, backarc_dx, 50.*u.km)\n",
    "ba1_fin = Model.add_material(name=\"backArc1\", shape=ba1)\n",
    "\n",
    "ba2 = backarcGeo(backarc_xStart, -50.*u.km, backarc_dx-50*u.km, 50.*u.km)\n",
    "ba2_fin = Model.add_material(name=\"backArc2\", shape=ba2)\n",
    "\n",
    "\n",
    "t1 = GEO.shapes.Box(top=Model.top,      bottom=-trans_dy/trans_layers, \n",
    "                    minX=trans_xStart, maxX=trans_xStart+trans_dx)\n",
    "t1_fin = Model.add_material(name=\"trans1\", shape=t1)\n",
    "\n",
    "\n",
    "t2 = GEO.shapes.Box(top=-trans_dy/trans_layers, bottom=-trans_dy, \n",
    "                    minX=trans_xStart, maxX=trans_xStart+trans_dx)\n",
    "t2_fin = Model.add_material(name=\"trans2\", shape=t2)\n",
    "\n",
    "\n",
    "c1 = GEO.shapes.Box(top=Model.top,      bottom=-craton_dy/craton_layers, \n",
    "                    minX=craton_xStart, maxX=craton_xStart+craton_dx)\n",
    "c1_fin = Model.add_material(name=\"craton1\", shape=c1)\n",
    "\n",
    "\n",
    "c2 = GEO.shapes.Box(top=-craton_dy/craton_layers, bottom=-craton_dy,\n",
    "                    minX=craton_xStart, maxX=craton_xStart+craton_dx)\n",
    "c2_fin = Model.add_material(name=\"craton2\", shape=c2)\n",
    "\n",
    "\n",
    "bs = GEO.shapes.Polygon(vertices=[(nd(bouyStrip_xStart), 0.),\n",
    "                             (nd(bouyStrip_xStart+bouyStrip_dx), 0.),\n",
    "                             (nd(bouyStrip_xStart+bouyStrip_dx), 0.-nd(bouyStrip_dy)),\n",
    "                             (nd(bouyStrip_xStart), 0.-nd(bouyStrip_dy))])\n",
    "bs_fin = Model.add_material(name=\"buoyStrip\", shape=bs)\n",
    "\n",
    "# always make 2D ribbon shape, if dim == 3 it's overwritten\n",
    "#rib_shape = GEO.shapes.Box(top=0*u.km, bottom=-50*u.km,\n",
    "#                           minX=ribbon_xStart, maxX=ribbon_xStart+ribbon_dx)\n",
    "\n",
    "if dim == 3:\n",
    "    # angle we want the ribbon rotated, can be +ve or -ve\n",
    "    rad = np.radians(ang)\n",
    "\n",
    "    # calculated associated half space normals\n",
    "    nx = -np.cos(rad)\n",
    "    nz = np.sin(rad)\n",
    "\n",
    "    # floor\n",
    "    hsp1 = GEO.shapes.HalfSpace(normal=(0.,-1.,0.), origin=(0, -50*u.km, 0.))\n",
    "    # front\n",
    "    hsp2 = GEO.shapes.HalfSpace(normal=(nx, 0, nz), origin=(ribbon_xStart,0.,Model.maxCoord[2]))\n",
    "    # back\n",
    "    hsp3 = GEO.shapes.HalfSpace(normal=(-nx, 0, -nz), origin=(ribbon_xStart+ribbon_dx,0.,Model.maxCoord[2]))\n",
    "    # width\n",
    "    hsp4 = GEO.shapes.HalfSpace(normal=(0, 0, -1), origin=(0.,0.,ribbon_dz))\n",
    "\n",
    "    rib_shape = hsp1&hsp2&hsp3&hsp4\n",
    "\n",
    "rib = Model.add_material(name=\"ribbon\")#, shape=rib_shape)\n",
    "\n",
    "op_change = Model.add_material(name=\"oceanic plate 1 after phase change\")\n",
    "\n",
    "lm = Model.add_material(name=\"lower mantle\", shape= fn_y < nd(-600.0 * 10**3 * u.meter))\n",
    "\n",
    "added_material_list = [lm, op1_fin, op2_fin, op3_fin, op4_fin, ba1_fin, ba2_fin, t1_fin, \n",
    "                       t2_fin, c1_fin, c2_fin, bs_fin, op_change, rib]"
   ]
  },
  {
   "cell_type": "code",
   "execution_count": 14,
   "metadata": {},
   "outputs": [
    {
     "data": {
      "text/plain": [
       "<underworld.visualisation.objects.Points at 0x7f9f140f4e80>"
      ]
     },
     "execution_count": 14,
     "metadata": {},
     "output_type": "execute_result"
    }
   ],
   "source": [
    "figsize=(1000,300)\n",
    "camera = ['zoom 100']#['rotate x 30']\n",
    "boundingBox=( minCoord, maxCoord )\n",
    "\n",
    "materialFilter = Model.materialField > 0\n",
    "\n",
    "\n",
    "# ERROR with boundaringBox, maybe BUG for Okaluza\n",
    "# figSwarm = vis.Figure(figsize=figsize, boundingBox=boundingBox )\n",
    "\n",
    "# swarmPlot = vis.objects.Points(swarm, materialIndex, materialFilter, colours='gray', opacity=0.5, fn_size=2., \n",
    "#                                     discrete=True, colourBar=False, )\n",
    "\n",
    "Fig = vis.Figure(figsize=(1200,400))\n",
    "\n",
    "# Show single colour\n",
    "# Fig.Points(Model.swarm, colour='gray', opacity=0.5, discrete=True, \n",
    "#            fn_mask=materialFilter, fn_size=2.0, colourBar=False)\n",
    "\n",
    "# Show all glory\n",
    "Fig.Points(Model.swarm, fn_colour=Model.materialField, \n",
    "           fn_mask=materialFilter, opacity=0.5, fn_size=2.0)\n",
    "\n",
    "# # Save image to disk\n",
    "# Fig.save(\"foobar.png\")\n",
    "\n",
    "# Rotate camera angle\n",
    "#Fig.script(camera)\n",
    "\n",
    "# Render in notebook\n",
    "# Fig.show()\n",
    "\n",
    "#Fig.window()"
   ]
  },
  {
   "cell_type": "code",
   "execution_count": 15,
   "metadata": {
    "lines_to_next_cell": 0
   },
   "outputs": [
    {
     "name": "stdout",
     "output_type": "stream",
     "text": [
      "lower mantle\n",
      "oceanic plate 1 after phase change\n",
      "ribbon\n",
      "buoyStrip\n",
      "craton2\n",
      "craton1\n",
      "trans2\n",
      "trans1\n",
      "backArc2\n",
      "backArc1\n",
      "oceanic plate 4\n",
      "oceanic plate 3\n",
      "oceanic plate 2\n",
      "oceanic plate 1\n",
      "Model\n",
      "Assigning material properties...\n"
     ]
    }
   ],
   "source": [
    "#assigning properties (density, viscosity, etc) to shapes.\n",
    "# N.B. the default material 'Model' is assigned the 'upper mantle' properties\n",
    "\n",
    "for i in Model.materials:\n",
    "    for j in matprop.material_list:\n",
    "        if i.name == j[\"name\"]:\n",
    "            if rank == 0: print(i.name)\n",
    "            i.density = j[\"density\"]\n",
    "            i.viscosity = j[\"viscosity\"]\n",
    "            c0 = j[\"cohesion\"] if j.get('cohesion') else None\n",
    "            c1 = j[\"cohesion2\"] if j.get('cohesion2') else c0\n",
    "            if c0 is not None:\n",
    "                i.plasticity = GEO.VonMises(cohesion = c0, cohesionAfterSoftening = c1)\n",
    "                                       # TODO epsilon1=0., epsilon2=0.1\n",
    "\n",
    "if rank == 0: print(\"Assigning material properties...\")"
   ]
  },
  {
   "cell_type": "markdown",
   "metadata": {},
   "source": [
    "**Eclogite transition**\n",
    "\n",
    "Assume that the oceanic crust transforms instantaneously and completely to eclogite at a depth of 150 km"
   ]
  },
  {
   "cell_type": "code",
   "execution_count": 16,
   "metadata": {
    "lines_to_next_cell": 2
   },
   "outputs": [],
   "source": [
    "op1_fin.phase_changes = GEO.PhaseChange((Model.y < nd(-150.*u.kilometers)),\n",
    "                                          op_change.index)\n",
    "# Not sure about the others\n",
    "# op2_fin.phase_changes = GEO.PhaseChange((Model.y < nd(-150.*u.kilometers)),\n",
    "#                                           op_change.index)\n",
    "# op3_fin.phase_changes = GEO.PhaseChange((Model.y < nd(-150.*u.kilometers)),\n",
    "#                                           op_change.index)\n",
    "# op4_fin.phase_changes = GEO.PhaseChange((Model.y < nd(-150.*u.kilometers)),\n",
    "#                                           op_change.index)\n",
    "\n",
    "if rank == 0:\n",
    "    store = vis.Store(\"store\" + str(shifted))\n",
    "    figure_one = vis.Figure(store, figsize=(1200,400))\n",
    "    figure_one.append(Fig.Points(Model.swarm, fn_colour=Model.materialField, fn_mask=materialFilter, opacity=0.5, fn_size=2.0))\n",
    "    store.step = 0\n",
    "    figure_one.save(\"store\" + str(shifted))"
   ]
  },
  {
   "cell_type": "code",
   "execution_count": 17,
   "metadata": {
    "scrolled": true
   },
   "outputs": [
    {
     "data": {
      "text/html": [
       "<img src='data:image/png;base64,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'>"
      ],
      "text/plain": [
       "<IPython.core.display.HTML object>"
      ]
     },
     "metadata": {},
     "output_type": "display_data"
    }
   ],
   "source": [
    "figsize=(1000,300)\n",
    "camera = ['rotate x 30']\n",
    "boundingBox=( minCoord, maxCoord )\n",
    "\n",
    "materialFilter = Model.materialField > 0\n",
    "\n",
    "\n",
    "# ERROR with boundaringBox, maybe BUG for Okaluza\n",
    "# figSwarm = vis.Figure(figsize=figsize, boundingBox=boundingBox )\n",
    "\n",
    "# swarmPlot = vis.objects.Points(swarm, materialIndex, materialFilter, colours='gray', opacity=0.5, fn_size=2., \n",
    "#                                     discrete=True, colourBar=False, )\n",
    "\n",
    "Fig = vis.Figure(figsize=(1200,400))\n",
    "\n",
    "# Show single colour\n",
    "# Fig.Points(Model.swarm, colour='gray', opacity=0.5, discrete=True, \n",
    "#            fn_mask=materialFilter, fn_size=2.0, colourBar=False)\n",
    "\n",
    "# Show all glory\n",
    "Fig.Points(Model.swarm, fn_colour=Model.materialField, \n",
    "           fn_mask=materialFilter, opacity=0.5, fn_size=2.0)\n",
    "\n",
    "# Save image to disk\n",
    "# Fig.save(\"Figure_1.png\")\n",
    "\n",
    "# Rotate camera angle\n",
    "Fig.script(camera)\n",
    "\n",
    "# Render in notebook\n",
    "Fig.show()"
   ]
  },
  {
   "cell_type": "code",
   "execution_count": 18,
   "metadata": {},
   "outputs": [],
   "source": [
    "def build_tracer_swarm(name, minX, maxX, numX, y, minZ, maxZ, numZ):\n",
    "    # wrapper for `Model.add_passive_tracers()` which doesn't take dimensional values\n",
    "    \n",
    "    minX = GEO.nd(minX) ; maxX = GEO.nd(maxX)\n",
    "    minZ = GEO.nd(minZ) ; maxZ = GEO.nd(maxZ)\n",
    "    \n",
    "    xx = np.linspace(minX, maxX, numX)\n",
    "    yy = np.array([GEO.nd(y)])\n",
    "    zz = np.linspace(minZ, maxZ, numZ)\n",
    "\n",
    "    xx, yy, zz = np.meshgrid(xx,yy,zz)\n",
    "    \n",
    "    coords = np.ndarray((xx.size, 3))\n",
    "    coords[:,0] = xx.ravel()\n",
    "    coords[:,1] = yy.ravel()\n",
    "    coords[:,2] = zz.ravel()\n",
    "       \n",
    "    tracers = Model.add_passive_tracers(name, vertices = coords)\n",
    "\n",
    "    return tracers"
   ]
  },
  {
   "cell_type": "code",
   "execution_count": 19,
   "metadata": {
    "lines_to_next_cell": 2
   },
   "outputs": [],
   "source": [
    "# # build 2 tracer swarms, one on the surface, and one 25 km down\n",
    "\n",
    "# DISABLE THE TRACERS! JG23Jun\n",
    "\n",
    "if dim == 3:\n",
    "    tracers = build_tracer_swarm(\"ba_surface\",\n",
    "                                 backarc_xStart, backarc_xStart+backarc_dx, int(np.ceil(backarc_dx/resolution[0])),\n",
    "                                 0, \n",
    "                                 Model.minCoord[2]+resolution[2]/2,Model.maxCoord[2]-resolution[2]/2, Model.elementRes[2]-1)\n",
    "    tracers.add_tracked_field(Model.strainRate, \"sr_tensora\", units=u.sec**-1, dataType=\"double\", count=6)\n",
    "\n",
    "    y = -15*u.km\n",
    "    t2 = build_tracer_swarm(\"ba_subsurf\",\n",
    "                                 backarc_xStart, backarc_xStart+backarc_dx+y, int(np.ceil(backarc_dx/resolution[0])),\n",
    "                                 y, \n",
    "                                 Model.minCoord[2]+resolution[2]/2,Model.maxCoord[2]-resolution[2]/2, Model.elementRes[2]-1)\n",
    "    t2.add_tracked_field(Model.strainRate, \"sr_tensorb\", units=u.sec**-1, dataType=\"double\", count=6)# # build 2 tracer swarms, one on the surface, and one 25 km down"
   ]
  },
  {
   "cell_type": "code",
   "execution_count": 20,
   "metadata": {
    "lines_to_next_cell": 2
   },
   "outputs": [],
   "source": [
    "#FigTracers = vis.Figure(store, figsize=(1200,400))\n",
    "\n",
    "# Show single colour\n",
    "# Fig.Points(Model.swarm, colour='gray', opacity=0.5, discrete=True, \n",
    "#            fn_mask=materialFilter, fn_size=2.0, colourBar=False)\n",
    "\n",
    "# Show all glory\n",
    "# FigTracers.Points(Model.swarm, fn_colour=Model.materialField, \n",
    "#            fn_mask=materialFilter, opacity=0.5, fn_size=2.0)\n",
    "\n",
    "# def get_show_tracer(name, colours):\n",
    "#     t = Model.passive_tracers.get(name)\n",
    "#     if not t: raise RuntimeError(\"ERROR: fine tracer called \", name)\n",
    "    \n",
    "    # t.variables[0] is the cell index, not of interest, only used to display in 'store'\n",
    "#    FigTracers.Points(t, t.variables[0],fn_size=2.,\n",
    "#                      colours=colours,opacity=0.5,colourBar=False)\n",
    "\n",
    "# if dim == 3:\n",
    "#\n",
    "#       get_show_tracer(name=\"ba_surface\", colours=\"#22BBBB\")\n",
    "#       get_show_tracer(name='ba_subsurf', colours=\"#335588\")\n",
    "#         get_show_tracer(name='slab', colours=\"Gray40 Goldenrod\")\n",
    "##         get_show_tracer(name='cont', colours=\"#335588 #22BBBB\")\n",
    "##         get_show_tracer(name='arc', colours=\"Goldenrod Grey41\")\n",
    "#         get_show_tracer(name='buoy', colours=\"#335588 #335588\")\n",
    "\n",
    "# def output_tracers(i):\n",
    "# \n",
    "#     store.step = i\n",
    "#     # Rotate camera angle\n",
    "#     #FigTracers.script(camera)\n",
    "#     \n",
    "#     #FigTracers.save('foobar.png')\n",
    "\n",
    "# Render in notebook\n",
    "# FigTracers.show()"
   ]
  },
  {
   "cell_type": "code",
   "execution_count": 21,
   "metadata": {},
   "outputs": [],
   "source": [
    "Model.minViscosity = 1e18 * u.Pa * u.sec\n",
    "Model.maxViscosity = 1e25 * u.Pa * u.sec"
   ]
  },
  {
   "cell_type": "code",
   "execution_count": 22,
   "metadata": {
    "lines_to_next_cell": 2
   },
   "outputs": [],
   "source": [
    "if dim == 2:\n",
    "    Model.set_velocityBCs( left=[0.,None,None], right=[0.,None,None],\n",
    "                       bottom=[None,0.,None], top=[None,0.,None])\n",
    "else:\n",
    "    Model.set_velocityBCs( left=[0.,None,None], right=[0.,None,None],\n",
    "                       front=[None,0.,None], back=[None,0.,None],\n",
    "                       bottom=[None,None,0.], top=[None,None,0.])"
   ]
  },
  {
   "cell_type": "code",
   "execution_count": 23,
   "metadata": {},
   "outputs": [
    {
     "name": "stdout",
     "output_type": "stream",
     "text": [
      "Calling init_model()...\n"
     ]
    }
   ],
   "source": [
    "if rank == 0: print(\"Calling init_model()...\")\n",
    "Model.init_model()"
   ]
  },
  {
   "cell_type": "code",
   "execution_count": 24,
   "metadata": {},
   "outputs": [],
   "source": [
    "# force the Eclogite phase transition before the model begins\n",
    "Model._phaseChangeFn()"
   ]
  },
  {
   "cell_type": "code",
   "execution_count": 25,
   "metadata": {},
   "outputs": [],
   "source": [
    "figViscosity = vis.Figure(figsize=figsize, axis=True)\n",
    "figViscosity.append( vis.objects.Points(Model.swarm, Model.viscosityField, colours='dem1', fn_size=2., logScale=True) )\n",
    "if dim == 3:\n",
    "    figViscosity.script(camera)\n",
    "# figViscosity.show()"
   ]
  },
  {
   "cell_type": "code",
   "execution_count": 26,
   "metadata": {},
   "outputs": [
    {
     "data": {
      "text/plain": [
       "<underworld.visualisation.objects.Points at 0x7f9f10186518>"
      ]
     },
     "execution_count": 26,
     "metadata": {},
     "output_type": "execute_result"
    }
   ],
   "source": [
    "Fig = vis.Figure(figsize=(1200,400))\n",
    "\n",
    "# Show all glory\n",
    "Fig.Points(Model.swarm, fn_colour=Model.densityField, \n",
    "           fn_mask=materialFilter, opacity=0.5, fn_size=2.0)\n",
    "\n",
    "# Rotate camera angle\n",
    "#Fig.script(camera)\n",
    "\n",
    "# Render in notebook\n",
    "# Fig.show()"
   ]
  },
  {
   "cell_type": "code",
   "execution_count": null,
   "metadata": {},
   "outputs": [],
   "source": [
    "fout = outputPath+'/FrequentOutput.dat'\n",
    "if rank == 0:\n",
    "    with open(fout,'a') as f:\n",
    "         f.write('#step\\t time(Myr)\\t Vrms(cm/yr)\\n')\n",
    "            \n",
    "def post_solve_hook():\n",
    "    vrms = Model.stokes_SLE.velocity_rms()\n",
    "    step = Model.step\n",
    "    time = Model.time.m_as(u.megayear)\n",
    "    \n",
    "#    if dim==3: output_tracers(step)\n",
    "    \n",
    "    if rank == 0:\n",
    "        with open(fout,'a') as f:\n",
    "             f.write(f\"{step}\\t{time:5e}\\t{vrms:5e}\\n\")\n",
    "\n",
    "        store.step += 1\n",
    "        figure_one.save(\"store\" + str(shifted))\n",
    "        figure_one.save(\"store\" + str(shifted) + str(store.step))\n",
    "    # DEBUG CODE\n",
    "    #subMesh = Model.mesh.subMesh\n",
    "    #jeta.data[:] = Model._viscosityFn.evaluate(subMesh)\n",
    "    #jrho.data[:] = Model._densityFn.evaluate(subMesh)\n",
    "    #jsig.data[:] = jeta.data[:] * Model.strainRate_2ndInvariant.evaluate(subMesh)\n",
    "        \n",
    "Model.post_solve_functions[\"Measurements\"] = post_solve_hook"
   ]
  },
  {
   "cell_type": "code",
   "execution_count": null,
   "metadata": {},
   "outputs": [],
   "source": [
    "## We can test different solvers by uncommentting this section\n",
    "solver = Model.solver\n",
    "\n",
    "## OLD SOLVER settings ##\n",
    "# System level solver options\n",
    "# solver.options.main.Q22_pc_type = \"uwscale\"\n",
    "# solver.options.main.ksp_k2_type = \"GMG\"\n",
    "# solver.options.main.ksp_type    = \"bsscr\"\n",
    "# solver.options.main.pc_type     = \"none\"\n",
    "# solver.options.main.penalty     = 50.\n",
    "#solver.options.main.list()\n",
    "\n",
    "# Schur complement solver options\n",
    "solver.options.scr.ksp_rtol = scr_rtol \n",
    "solver.options.scr.ksp_type = \"fgmres\"\n",
    "#solver.options.main.list()\n",
    "\n",
    "# Inner solve (velocity), A11 options\n",
    "solver.options.A11.ksp_rtol = 1e-1 * scr_rtol\n",
    "solver.options.A11.ksp_type = \"fgmres\"\n",
    "solver.options.A11.list\n",
    "\n",
    "## OLD SOLVER settings end ##"
   ]
  },
  {
   "cell_type": "code",
   "execution_count": null,
   "metadata": {},
   "outputs": [],
   "source": [
    "if dim == 2: \n",
    "    solver.set_inner_method(\"mumps\")\n",
    "#    solver.options.scr.ksp_rtol = 1e-6 # small tolerance is good in 2D, not sure if too tight for 3D\n",
    "#else:\n",
    "#    solver.options.A11.ksp_rtol = 1.0e-5\n",
    "#    solver.options.scr.ksp_rtol = 1.0e-6 \n",
    "\n",
    "# solver.print_petsc_options()"
   ]
  },
  {
   "cell_type": "code",
   "execution_count": null,
   "metadata": {},
   "outputs": [],
   "source": [
    "# GEO.rcParams[\"initial.nonlinear.tolerance\"] = 4e-2"
   ]
  },
  {
   "cell_type": "code",
   "execution_count": null,
   "metadata": {},
   "outputs": [],
   "source": [
    "Fig = vis.Figure(figsize=(1200,400))\n",
    "Fig.Points(Model.swarm, fn_colour=2.*Model.viscosityField*Model.strainRate_2ndInvariant, colours='dem1', logScale=True,fn_size=1.0)\n",
    "# Fig.show()"
   ]
  },
  {
   "cell_type": "code",
   "execution_count": null,
   "metadata": {},
   "outputs": [],
   "source": [
    "Fig = vis.Figure(figsize=(1200,400))\n",
    "Fig.Points(Model.swarm, fn_colour=Model._stressField, logScale=True, colours='dem1', fn_size=1.0)\n",
    "# Fig.show()"
   ]
  },
  {
   "cell_type": "code",
   "execution_count": null,
   "metadata": {},
   "outputs": [],
   "source": [
    "Fig = vis.Figure(figsize=(1200,400))\n",
    "Fig.Points(Model.swarm, fn_colour=Model._viscosityField, logScale=True, colours='dem1', fn_size=1.0)\n",
    "# Fig.show()"
   ]
  },
  {
   "cell_type": "code",
   "execution_count": null,
   "metadata": {},
   "outputs": [],
   "source": [
    "## debugging code to generate initial fields for viscosity and density ##\n",
    "# fields output used to analyse initial setup\n",
    "\n",
    "#jeta = Model.add_submesh_field(name=\"cell_vis\", nodeDofCount=1)\n",
    "#jrho = Model.add_submesh_field(name=\"cell_rho\", nodeDofCount=1)\n",
    "#jsig = Model.add_submesh_field(name=\"cell_sig\", nodeDofCount=1)\n",
    "#\n",
    "#GEO.rcParams[\"default.outputs\"].append(\"cell_vis\")\n",
    "#GEO.rcParams[\"default.outputs\"].append(\"cell_rho\")\n",
    "#GEO.rcParams[\"default.outputs\"].append(\"cell_sig\")\n",
    "#\n",
    "#subMesh = Model.mesh.subMesh\n",
    "#jeta.data[:] = Model._viscosityFn.evaluate(subMesh)\n",
    "#jrho.data[:] = Model._densityFn.evaluate(subMesh)\n",
    "#jsig.data[:] = 2. * jeta.data[:] * Model.strainRate_2ndInvariant.evaluate(subMesh)"
   ]
  },
  {
   "cell_type": "code",
   "execution_count": null,
   "metadata": {},
   "outputs": [],
   "source": [
    "# To restart the model\n",
    "# Model.run_for(nstep=200, checkpoint_interval=5, restartStep=-1)"
   ]
  },
  {
   "cell_type": "code",
   "execution_count": null,
   "metadata": {},
   "outputs": [],
   "source": [
    "Model.run_for(nstep=200, checkpoint_interval=1)"
   ]
  },
  {
   "cell_type": "code",
   "execution_count": null,
   "metadata": {},
   "outputs": [],
   "source": [
    "#RESTART"
   ]
  },
  {
   "cell_type": "code",
   "execution_count": null,
   "metadata": {},
   "outputs": [],
   "source": [
    "Model.run_for(nstep=200, restartStep=78, restartDir=\"output-1e-06-20-620-50x50_np1\")\n",
    "#Model.run_for(nstep=200, checkpoint_interval=5, restartStep=52, restartDir=\"output-1e-06-20-700-20x20_np1\")"
   ]
  },
  {
   "cell_type": "code",
   "execution_count": null,
   "metadata": {},
   "outputs": [],
   "source": [
    "figsize=(1000,300)\n",
    "camera = ['rotate x 30']\n",
    "boundingBox=( minCoord, maxCoord )\n",
    "\n",
    "materialFilter = Model.materialField > 0\n",
    "\n",
    "\n",
    "# ERROR with boundaringBox, maybe BUG for Okaluza\n",
    "# figSwarm = vis.Figure(figsize=figsize, boundingBox=boundingBox )\n",
    "\n",
    "# swarmPlot = vis.objects.Points(swarm, materialIndex, materialFilter, colours='gray', opacity=0.5, fn_size=2., \n",
    "#                                     discrete=True, colourBar=False, )\n",
    "\n",
    "Fig = vis.Figure(figsize=(1200,400))\n",
    "\n",
    "# Show single colour\n",
    "# Fig.Points(Model.swarm, colour='gray', opacity=0.5, discrete=True, \n",
    "#            fn_mask=materialFilter, fn_size=2.0, colourBar=False)\n",
    "\n",
    "# Show all glory\n",
    "Fig.Points(Model.swarm, fn_colour=Model.materialField, \n",
    "           fn_mask=materialFilter, opacity=0.5, fn_size=2.0)\n",
    "\n",
    "# Save image to disk\n",
    "# Fig.save(\"Figure_1.png\")\n",
    "\n",
    "# Rotate camera angle\n",
    "#Fig.script(camera)\n",
    "\n",
    "# Render in notebook\n",
    "Fig.show()"
   ]
  },
  {
   "cell_type": "code",
   "execution_count": null,
   "metadata": {},
   "outputs": [],
   "source": [
    "ribbon_dx =  500. * u.kilometer\n",
    "ribbon_dy =   50. * u.kilometer\n",
    "ribbon_dz = 1500. * u.kilometer \n",
    "ribbon_xStart = slab_xStart + shifted * u.kilometer\n",
    "rib.shape = GEO.shapes.Box(top=0*u.km, bottom=-50*u.km,\n",
    "                           minX=ribbon_xStart, maxX=ribbon_xStart+ribbon_dx)\n",
    "\n",
    "matField = Model.swarm_variables['materialField']\n",
    "rib.index\n",
    "matField.data\n",
    "Model.swarm.data\n",
    "isInsideShape = rib.shape.evaluate(Model.swarm.data)# where particle is inside the ribbon update it's materialField index\n",
    "Model.swarm_variables['materialField'].data[:] = np.where(isInsideShape == True, rib.index, matField.data )"
   ]
  },
  {
   "cell_type": "code",
   "execution_count": null,
   "metadata": {},
   "outputs": [],
   "source": [
    "figsize=(1000,300)\n",
    "camera = ['rotate x 30']\n",
    "boundingBox=( minCoord, maxCoord )\n",
    "\n",
    "materialFilter = Model.materialField > 0\n",
    "\n",
    "\n",
    "# ERROR with boundaringBox, maybe BUG for Okaluza\n",
    "# figSwarm = vis.Figure(figsize=figsize, boundingBox=boundingBox )\n",
    "\n",
    "# swarmPlot = vis.objects.Points(swarm, materialIndex, materialFilter, colours='gray', opacity=0.5, fn_size=2., \n",
    "#                                     discrete=True, colourBar=False, )\n",
    "\n",
    "Fig = vis.Figure(figsize=(1200,400))\n",
    "\n",
    "# Show single colour\n",
    "# Fig.Points(Model.swarm, colour='gray', opacity=0.5, discrete=True, \n",
    "#            fn_mask=materialFilter, fn_size=2.0, colourBar=False)\n",
    "\n",
    "# Show all glory\n",
    "Fig.Points(Model.swarm, fn_colour=Model.materialField, \n",
    "           fn_mask=materialFilter, opacity=0.5, fn_size=2.0)\n",
    "\n",
    "# Save image to disk\n",
    "# Fig.save(\"Figure_1.png\")\n",
    "\n",
    "# Rotate camera angle\n",
    "#Fig.script(camera)\n",
    "\n",
    "# Render in notebook\n",
    "Fig.show()"
   ]
  },
  {
   "cell_type": "code",
   "execution_count": null,
   "metadata": {},
   "outputs": [],
   "source": [
    "Model.run_for(nstep=200, checkpoint_interval=1)"
   ]
  },
  {
   "cell_type": "raw",
   "metadata": {},
   "source": []
  },
  {
   "cell_type": "code",
   "execution_count": null,
   "metadata": {},
   "outputs": [],
   "source": [
    "from UWGeodynamics import visualisation as vis\n",
    "view = vis.Viewer(store)\n",
    "steps = view.steps\n",
    "view.step = steps[20]\n",
    "for i in view.figures:\n",
    "    view.figure(i)\n",
    "    view[\"title\"] = \"Timestep ##\"\n",
    "    view.window()"
   ]
  },
  {
   "cell_type": "code",
   "execution_count": null,
   "metadata": {},
   "outputs": [],
   "source": [
    "figs = view.figures\n",
    "steps = view.steps\n",
    "view.step = steps[20]\n",
    "for i in view.figures:\n",
    "    view.figure(i)\n",
    "    view[\"title\"] = \"Timestep ##\"\n",
    "    view.show()"
   ]
  },
  {
   "cell_type": "code",
   "execution_count": null,
   "metadata": {},
   "outputs": [],
   "source": [
    "figs = view.figures\n",
    "steps = view.steps\n",
    "view.step = steps[90]\n",
    "for i in view.figures:\n",
    "    view.figure(i)\n",
    "    view[\"title\"] = \"Timestep ##\"\n",
    "    view.show()"
   ]
  },
  {
   "cell_type": "code",
   "execution_count": null,
   "metadata": {},
   "outputs": [],
   "source": []
  }
 ],
 "metadata": {
  "jupytext": {
   "encoding": "# -*- coding: utf-8 -*-",
   "formats": "ipynb,py:percent"
  },
  "kernelspec": {
   "display_name": "Python 3",
   "language": "python",
   "name": "python3"
  },
  "language_info": {
   "codemirror_mode": {
    "name": "ipython",
    "version": 3
   },
   "file_extension": ".py",
   "mimetype": "text/x-python",
   "name": "python",
   "nbconvert_exporter": "python",
   "pygments_lexer": "ipython3",
   "version": "3.7.3"
  }
 },
 "nbformat": 4,
 "nbformat_minor": 4
}
