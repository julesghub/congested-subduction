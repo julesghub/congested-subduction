{
 "cells": [
  {
   "cell_type": "markdown",
   "metadata": {},
   "source": [
    "Dynamics of continental accretion\n",
    "======\n",
    "\n",
    "This notebook outlines the Underworld model used in the Moresi (2014) paper 'Dynamics of continental accretion'. It reproduces the initial conditions shown in Extended Data Figure 1 and 2 and the numerics required for reproduce Figure 2.\n",
    "\n",
    "\"In order to better understand the behaviour of this ancient plate mar- gin and the growth of the Australian continent, we use three-dimensional (3D) dynamic models of a subducting slab, overriding plate and mantle, building on previous work14–16. The models have a four-layer subduct- ing plate with buoyancy and rheology of each layer pre-calculated from a half-space cooling model of 80 or 120 Myr age, and they include either a weak or a strong viscoplastic overriding plate (Table 1 and Extended Data Figs 1 and 2). The simulations are best understood by viewing movies of the time evolution (Table 1).\"\n",
    "\n",
    "**References**\n",
    "\n",
    "Moresi, L., P. G. Betts, M. S. Miller, and R. A. Cayley. 2014. “Dynamics of Continental Accretion.” Nature 508 (7495): 245–48. [doi:10.1038/nature13033](https://www.nature.com/articles/nature13033)"
   ]
  },
  {
   "cell_type": "code",
   "execution_count": null,
   "metadata": {},
   "outputs": [],
   "source": [
    "# core UW bit\n",
    "import UWGeodynamics as GEO\n",
    "from UWGeodynamics import visualisation as vis\n",
    "from UWGeodynamics.scaling import units as u\n",
    "from UWGeodynamics.scaling import dimensionalise\n",
    "from UWGeodynamics.scaling import non_dimensionalise as nd"
   ]
  },
  {
   "cell_type": "code",
   "execution_count": null,
   "metadata": {},
   "outputs": [],
   "source": [
    "# 3rd party python modules\n",
    "import math\n",
    "import numpy as np\n",
    "import os\n",
    "import scipy"
   ]
  },
  {
   "cell_type": "code",
   "execution_count": null,
   "metadata": {},
   "outputs": [],
   "source": [
    "import geo_model_properties as modprop\n",
    "import relrho_geo_material_properties as matprop\n",
    "import geo_material_properties"
   ]
  },
  {
   "cell_type": "code",
   "execution_count": null,
   "metadata": {},
   "outputs": [],
   "source": [
    "# shortcuts for parallel wrappers\n",
    "barrier = GEO.uw.mpi.barrier\n",
    "rank    = GEO.rank"
   ]
  },
  {
   "cell_type": "code",
   "execution_count": null,
   "metadata": {},
   "outputs": [],
   "source": [
    "# read in and execute internal scaling script\n",
    "exec(open('geo_moresi_2014_scaling.py').read())\n",
    "\n",
    "# scaling debug check\n",
    "if rank == 0:\n",
    "    print(dimensionalise(10.,u.meters),\" | \", nd(100.*u.megapascal) )\n",
    "    #GEO.scaling.get_coefficients()"
   ]
  },
  {
   "cell_type": "markdown",
   "metadata": {},
   "source": [
    "**Setup parameters**\n"
   ]
  },
  {
   "cell_type": "code",
   "execution_count": null,
   "metadata": {},
   "outputs": [],
   "source": [
    "# xRes = 256\n",
    "# yRes =  96 \n",
    "# zRes =  96\n",
    "\n",
    "dim = 3\n",
    "\n",
    "xRes = 128\n",
    "yRes = 48\n",
    "zRes = 48\n",
    "\n",
    "checkpoint_restart = False\n",
    "outputPath = f\"output-{xRes}x{yRes}x{zRes}\" if dim == 3 else f\"output-{xRes}x{yRes}\""
   ]
  },
  {
   "cell_type": "code",
   "execution_count": null,
   "metadata": {},
   "outputs": [],
   "source": [
    "outputPath = os.path.join(os.path.abspath(\".\"), outputPath)\n",
    "if rank==0:\n",
    "    if not os.path.exists(outputPath):\n",
    "        os.makedirs(outputPath)\n",
    "barrier()\n",
    "\n",
    "if checkpoint_restart == True:\n",
    "    # you need to define these\n",
    "    outputPath_restart = os.path.join(os.path.abspath(\".\"),\"output_checkPoint_restart/\")\n",
    "    time = 4.38067181e+03\n",
    "    step = 1"
   ]
  },
  {
   "cell_type": "markdown",
   "metadata": {},
   "source": [
    "**Create mesh and finite element variables**"
   ]
  },
  {
   "cell_type": "code",
   "execution_count": null,
   "metadata": {},
   "outputs": [],
   "source": [
    "# Domain\n",
    "boxLength = modprop.boxLength\n",
    "boxHeight = modprop.boxHeight\n",
    "boxWidth  = modprop.boxWidth"
   ]
  },
  {
   "cell_type": "code",
   "execution_count": null,
   "metadata": {},
   "outputs": [],
   "source": [
    "# Define our vertical unit vector using a python tuple\n",
    "if dim == 2:\n",
    "    elementRes = (xRes, yRes)\n",
    "    minCoord   = (0., -boxHeight)\n",
    "    maxCoord   = (boxLength, 0.)\n",
    "    z_hat      = ( 0.0, 1.0)\n",
    "    \n",
    "else:\n",
    "    elementRes = (xRes, yRes, zRes)\n",
    "    minCoord   = (0., -boxHeight, 0.)\n",
    "    maxCoord   = (boxLength, 0., boxWidth)\n",
    "    z_hat      = ( 0.0, 1.0, 0.0 )\n",
    "    \n",
    "Model = GEO.Model(elementRes = elementRes,\n",
    "                  minCoord   = minCoord,\n",
    "                  maxCoord   = maxCoord,\n",
    "                  gravity    = z_hat,\n",
    "                  outputDir  = outputPath)"
   ]
  },
  {
   "cell_type": "markdown",
   "metadata": {},
   "source": [
    "### Questions: _postSoftening_\n",
    "\n",
    "This looks like a 'hasYielded' swarm variable. It is a bool, initially set to 0 and set to 1 iff the particle has yielded at any stage. Once triggered a 1 can't heal back to 0. It enables a bifurication of the cohesion value used in the vonMises yield criterion.\n",
    "\n",
    "I could add a swarm variable for _postSoftening_ variable in the original model of Bec's\n",
    "`Model.add_swarm_variable`\n",
    "\n",
    "or is the `_ViscosityFunction._isYielding` from `UWGeo`"
   ]
  },
  {
   "cell_type": "markdown",
   "metadata": {},
   "source": [
    "**checkpoint_restart**"
   ]
  },
  {
   "cell_type": "code",
   "execution_count": null,
   "metadata": {},
   "outputs": [],
   "source": [
    "# # if reloading from checkpoint\n",
    "if checkpoint_restart == True:\n",
    "    swarm.load(         outputPath_restart+'swarm.'         + str(step).zfill(5) +'.h5')\n",
    "    materialIndex.load( outputPath_restart+'materialIndex.' + str(step).zfill(5) +'.h5')\n",
    "    postSoftening.load( outputPath_restart+'postSoftening.' + str(step).zfill(5) +'.h5')\n",
    "else:\n",
    "#     swarmLayout = uw.swarm.layouts.PerCellSpaceFillerLayout( swarm=swarm, particlesPerCell=particlesPerCell )\n",
    "#     swarm.populate_using_layout( layout=swarmLayout )\n",
    "#     postSoftening.data[:] = 0 # initial softening flag to False\n",
    "    exec(open('geo_moresi_2014_material_layout.py').read())\n",
    "    exec(open('relrho_geo_material_properties.py').read())\n",
    "#     if dim == 2:\n",
    "#         materialIndex.data[:] = fn.branching.conditional( conditions_2d ).evaluate(Model.swarm)\n",
    "#     else:\n",
    "#         materialIndex.data[:] = fn.branching.conditional( conditions_3d ).evaluate(swarm)\n",
    "    "
   ]
  },
  {
   "cell_type": "code",
   "execution_count": null,
   "metadata": {},
   "outputs": [],
   "source": [
    "# set default background material parameters\n",
    "Model.density = um[\"density\"]\n",
    "Model.viscosity = um[\"viscosity\"]"
   ]
  },
  {
   "cell_type": "code",
   "execution_count": null,
   "metadata": {},
   "outputs": [],
   "source": [
    "#variables for initialisation of shapes from file geo_moresi_2014_material_layout.py\n",
    "\n",
    "slab_y1 = -0*nd(slab_crust)\n",
    "slab_y2 = -1*nd(slab_dy)/slab_layers\n",
    "slab_y3 = -2*nd(slab_dy)/slab_layers\n",
    "slab_y4 = -3*nd(slab_dy)/slab_layers\n",
    "\n",
    "backarc_dx = 1200. * u.kilometer\n",
    "backarc_dy =  100. * u.kilometer\n",
    "backarc_xStart = slab_xStart - backarc_dx\n",
    "backarc_layers = 2\n",
    "dpert = dimensionalise(pert, u.km)\n",
    "\n",
    "backarc_y1 = -0.*nd(backarc_dy)/backarc_layers\n",
    "backarc_y2 = -1.*nd(backarc_dy)/backarc_layers\n",
    "\n",
    "trans_y1 = -0.*nd(trans_dy)\n",
    "trans_y2 = -1.*nd(trans_dy)\n",
    "\n",
    "crat_y1 = -0.*nd(craton_dy)\n",
    "crat_y2 = -1.*nd(craton_dy)"
   ]
  },
  {
   "cell_type": "code",
   "execution_count": null,
   "metadata": {},
   "outputs": [],
   "source": [
    "# general shape functions\n",
    "def slabGeo(x, y, dx, dy):\n",
    "    shape = [ (x,y), (x+dx,y), (x+dx,y-dy), (x,y-dy), (x-dpert,y-dy-dpert), (x-dpert,y-dpert) ]\n",
    "    return GEO.shapes.Polygon(shape)\n",
    "\n",
    "def backarcGeo(x, y, dx, dy):\n",
    "    shape = [ (x,y), (x+dx,y), (x+dx-dy,y-dy), (x,y-dy)]\n",
    "    return GEO.shapes.Polygon(shape)"
   ]
  },
  {
   "cell_type": "code",
   "execution_count": null,
   "metadata": {},
   "outputs": [],
   "source": [
    "#initialising all features as shapes\n",
    "\n",
    "op1 = slabGeo(slab_xStart, slab_y1*u.km, slab_dx, slab_dy/slab_layers)\n",
    "op1_fin = Model.add_material(name=\"oceanic plate 1\", shape=op1)\n",
    "\n",
    "op2 = GEO.shapes.Polygon(vertices=[(nd(slab_xStart)-pert, slab_y2-pert), \n",
    "                                    (nd(slab_xStart), slab_y2),\n",
    "                                    (nd(slab_xStart+slab_dx), slab_y2),\n",
    "                                    (nd(slab_xStart+slab_dx), nd(slab_y2)-nd(slab_dy)/slab_layers),\n",
    "                                    (nd(slab_xStart), nd(slab_y2)-nd(slab_dy)/slab_layers),\n",
    "                                    (nd(slab_xStart)-pert, nd(slab_y2)-nd(slab_dy)/slab_layers-pert)])\n",
    "op2_fin = Model.add_material(name = \"oceanic plate 2\", shape=op2)\n",
    "\n",
    "op3 = GEO.shapes.Polygon(vertices=[(nd(slab_xStart)-pert, slab_y3-pert), \n",
    "                                    (nd(slab_xStart), slab_y3),\n",
    "                                    (nd(slab_xStart+slab_dx), slab_y3),\n",
    "                                    (nd(slab_xStart+slab_dx), nd(slab_y3)-nd(slab_dy)/slab_layers),\n",
    "                                    (nd(slab_xStart), nd(slab_y3)-nd(slab_dy)/slab_layers),\n",
    "                                    (nd(slab_xStart)-pert, nd(slab_y3)-nd(slab_dy)/slab_layers-pert)])\n",
    "op3_fin = Model.add_material(name = \"oceanic plate 3\", shape=op3)\n",
    "\n",
    "op4 = GEO.shapes.Polygon(vertices=[(nd(slab_xStart)-pert, slab_y4-pert), \n",
    "                                    (nd(slab_xStart), slab_y4),\n",
    "                                    (nd(slab_xStart+slab_dx), slab_y4),\n",
    "                                    (nd(slab_xStart+slab_dx), nd(slab_y4)-nd(slab_dy)/slab_layers),\n",
    "                                    (nd(slab_xStart), nd(slab_y4)-nd(slab_dy)/slab_layers),\n",
    "                                    (nd(slab_xStart)-pert, nd(slab_y4)-nd(slab_dy)/slab_layers-pert)])\n",
    "op4_fin = Model.add_material(name = \"oceanic plate 4\", shape=op4)"
   ]
  },
  {
   "cell_type": "code",
   "execution_count": null,
   "metadata": {},
   "outputs": [],
   "source": [
    "ba1 = backarcGeo(backarc_xStart, 0.*u.km, backarc_dx, 50.*u.km)\n",
    "ba1_fin = Model.add_material(name=\"backArc1\", shape=ba1)\n",
    "\n",
    "ba2 = backarcGeo(backarc_xStart, -50.*u.km, backarc_dx-50*u.km, 50.*u.km)\n",
    "\n",
    "ba2_fin = Model.add_material(name=\"backArc2\", shape=ba2)\n",
    "\n",
    "\n",
    "t1 = GEO.shapes.Box(top=Model.top,      bottom=-trans_dy/trans_layers, \n",
    "                    minX=trans_xStart, maxX=trans_xStart+trans_dx)\n",
    "t1_fin = Model.add_material(name=\"trans1\", shape=t1)\n",
    "\n",
    "t2 = GEO.shapes.Box(top=-trans_dy/trans_layers, bottom=-trans_dy, \n",
    "                    minX=trans_xStart, maxX=trans_xStart+trans_dx)\n",
    "t2_fin = Model.add_material(name=\"trans2\", shape=t2)\n",
    "\n",
    "c1 = GEO.shapes.Box(top=Model.top,      bottom=-craton_dy/craton_layers, \n",
    "                    minX=craton_xStart, maxX=craton_xStart+craton_dx)\n",
    "\n",
    "c1_fin = Model.add_material(name=\"craton1\", shape=c1)\n",
    "\n",
    "c2 = GEO.shapes.Box(top=-craton_dy/craton_layers, bottom=-craton_dy,\n",
    "                    minX=craton_xStart, maxX=craton_xStart+craton_dx)\n",
    "c2_fin = Model.add_material(name=\"craton2\", shape=c2)\n",
    "\n",
    "bs = GEO.shapes.Polygon(vertices=[(nd(bouyStrip_xStart), 0.),\n",
    "                             (nd(bouyStrip_xStart+bouyStrip_dx), 0.),\n",
    "                             (nd(bouyStrip_xStart+bouyStrip_dx), 0.-nd(bouyStrip_dy)),\n",
    "                             (nd(bouyStrip_xStart), 0.-nd(bouyStrip_dy))])\n",
    "bs_fin = Model.add_material(name=\"buoyStrip\", shape=bs)\n",
    "\n",
    "# always make 2D ribbon shape, if dim == 3 it's overwritten\n",
    "rib_shape = GEO.shapes.Box(top=0*u.km, bottom=-50*u.km,\n",
    "                           minX=ribbon_xStart, maxX=ribbon_xStart+ribbon_dx)\n",
    "\n",
    "if dim == 3:\n",
    "    # angle we want the ribbon rotated, can be +ve or -ve\n",
    "    ang = 0\n",
    "    rad = np.radians(ang)\n",
    "\n",
    "    # calculated associated half space normals\n",
    "    nx = -np.cos(rad)\n",
    "    nz = np.sin(rad)\n",
    "\n",
    "    # floor\n",
    "    hsp1 = GEO.shapes.HalfSpace(normal=(0.,-1.,0.), origin=(0, -50*u.km, 0.))\n",
    "    # front\n",
    "    hsp2 = GEO.shapes.HalfSpace(normal=(nx, 0, nz), origin=(ribbon_xStart,0.,Model.maxCoord[2]))\n",
    "    # back\n",
    "    hsp3 = GEO.shapes.HalfSpace(normal=(-nx, 0, -nz), origin=(ribbon_xStart+ribbon_dx,0.,Model.maxCoord[2]))\n",
    "    # width\n",
    "    hsp4 = GEO.shapes.HalfSpace(normal=(0, 0, -1), origin=(0.,0.,ribbon_dz))\n",
    "\n",
    "    rib_shape = hsp1&hsp2&hsp3&hsp4\n",
    "\n",
    "rib = Model.add_material(name=\"ribbon\", shape=rib_shape)\n",
    "\n",
    "\n",
    "op_change = Model.add_material(name=\"oceanic plate 1 after phase change\")\n",
    "\n",
    "lm = Model.add_material(name=\"lower mantle\", shape= fn_y < nd(-600.0 * 10**3 * u.meter))\n",
    "\n",
    "added_material_list = [lm, op1_fin, op2_fin, op3_fin, op4_fin, ba1_fin, ba2_fin, t1_fin, \n",
    "                       t2_fin, c1_fin, c2_fin, bs_fin, op_change, rib]"
   ]
  },
  {
   "cell_type": "code",
   "execution_count": null,
   "metadata": {},
   "outputs": [],
   "source": [
    "figsize=(1000,300)\n",
    "camera = ['rotate x 30']\n",
    "boundingBox=( minCoord, maxCoord )\n",
    "\n",
    "materialFilter = Model.materialField > 0\n",
    "\n",
    "\n",
    "# ERROR with boundaringBox, maybe BUG for Okaluza\n",
    "# figSwarm = vis.Figure(figsize=figsize, boundingBox=boundingBox )\n",
    "\n",
    "# swarmPlot = vis.objects.Points(swarm, materialIndex, materialFilter, colours='gray', opacity=0.5, fn_size=2., \n",
    "#                                     discrete=True, colourBar=False, )\n",
    "\n",
    "Fig = vis.Figure(figsize=(1200,400))\n",
    "\n",
    "# Show single colour\n",
    "# Fig.Points(Model.swarm, colour='gray', opacity=0.5, discrete=True, \n",
    "#            fn_mask=materialFilter, fn_size=2.0, colourBar=False)\n",
    "\n",
    "# Show all glory\n",
    "Fig.Points(Model.swarm, fn_colour=Model.materialField, \n",
    "           fn_mask=materialFilter, opacity=0.5, fn_size=2.0)\n",
    "\n",
    "# Save image to disk\n",
    "# Fig.save(\"Figure_1.png\")\n",
    "\n",
    "# Rotate camera angle\n",
    "Fig.script(camera)\n",
    "\n",
    "# Render in notebook\n",
    "Fig.show()"
   ]
  },
  {
   "cell_type": "code",
   "execution_count": null,
   "metadata": {},
   "outputs": [],
   "source": [
    "#assigning properties (density, viscosity, etc) to landforms\n",
    "\n",
    "for i in added_material_list:\n",
    "    for j in material_list:\n",
    "        if i.name == j[\"name\"]:\n",
    "            print(i.name)\n",
    "            i.density = j[\"density\"]\n",
    "            i.viscosity = j[\"viscosity\"]\n",
    "            c0 = j[\"cohesion\"] if j.get('cohesion') else None\n",
    "            c1 = j[\"cohesion2\"] if j.get('cohesion2') else None\n",
    "#             i.plasticity = GEO.VonMises(cohesion = c0, cohesionAfterSoftening = c1)"
   ]
  },
  {
   "cell_type": "markdown",
   "metadata": {},
   "source": [
    "**Eclogite transition**\n",
    "\n",
    "Assume that the oceanic crust transforms instantaneously and completely to eclogite at a depth of 150 km"
   ]
  },
  {
   "cell_type": "code",
   "execution_count": null,
   "metadata": {},
   "outputs": [],
   "source": [
    "op1.phase_changes = GEO.PhaseChange((Model.y < nd(-150.*u.kilometers)),\n",
    "                                          op_change.index)"
   ]
  },
  {
   "cell_type": "code",
   "execution_count": null,
   "metadata": {},
   "outputs": [],
   "source": [
    "figsize=(1000,300)\n",
    "camera = ['rotate x 30']\n",
    "boundingBox=( minCoord, maxCoord )\n",
    "\n",
    "materialFilter = Model.materialField > 1\n",
    "\n",
    "\n",
    "# ERROR with boundaringBox, maybe BUG for Okaluza\n",
    "# figSwarm = vis.Figure(figsize=figsize, boundingBox=boundingBox )\n",
    "\n",
    "# swarmPlot = vis.objects.Points(swarm, materialIndex, materialFilter, colours='gray', opacity=0.5, fn_size=2., \n",
    "#                                     discrete=True, colourBar=False, )\n",
    "\n",
    "Fig = vis.Figure(figsize=(1200,400))\n",
    "\n",
    "# Show single colour\n",
    "# Fig.Points(Model.swarm, colour='gray', opacity=0.5, discrete=True, \n",
    "#            fn_mask=materialFilter, fn_size=2.0, colourBar=False)\n",
    "\n",
    "# Show all glory\n",
    "Fig.Points(Model.swarm, fn_colour=Model.materialField, \n",
    "           fn_mask=materialFilter, opacity=0.5, fn_size=2.0)\n",
    "\n",
    "# Save image to disk\n",
    "# Fig.save(\"Figure_1.png\")\n",
    "\n",
    "# Rotate camera angle\n",
    "Fig.script(camera)\n",
    "\n",
    "# Render in notebook\n",
    "Fig.show()"
   ]
  },
  {
   "cell_type": "code",
   "execution_count": null,
   "metadata": {},
   "outputs": [],
   "source": [
    "# build 3D surface tracers, ie y=0. NOT available for 2D\n",
    "def tracer_coords(name, minX, maxX, minZ, maxZ):\n",
    "    \n",
    "    xx = np.linspace(minX, maxX, max(1, int(maxX-minX))*100)\n",
    "    yy = np.zeros(1)\n",
    "    zz = np.linspace(minZ, maxZ, max(1, int(maxX-minX))*100)\n",
    "\n",
    "    xx, yy, zz = np.meshgrid(xx,yy,zz)\n",
    "        \n",
    "    tracers = Model.add_passive_tracers(name,\n",
    "                                        vertices  = [0.,0.,0.],\n",
    "                                        centroids = [xx, yy, zz]) "
   ]
  },
  {
   "cell_type": "code",
   "execution_count": null,
   "metadata": {},
   "outputs": [],
   "source": [
    "# Over-riding plate particles\n",
    "tracer_coords(\"orp\", nd(backarc_xStart),nd(slab_xStart),\n",
    "              0., nd(boxWidth))\n",
    "tracer_coords(\"slab\",nd(slab_xStart),nd(bouyStrip_xStart),\n",
    "              0., nd(slab_dz))\n",
    "tracer_coords(\"cont\", nd(craton_xStart), nd(backarc_xStart),\n",
    "              0., nd(boxWidth))\n",
    "tracer_coords(\"arc\", nd(ribbon_xStart), nd(ribbon_xStart+ribbon_dx),\n",
    "              nd(ribbon_dz), nd(boxWidth))\n",
    "tracer_coords(\"buoy\", nd(bouyStrip_xStart), nd(slab_xStart+slab_dx),\n",
    "              0., nd(slab_dz))"
   ]
  },
  {
   "cell_type": "code",
   "execution_count": null,
   "metadata": {},
   "outputs": [],
   "source": [
    "on_grid_x = fn.math.sin(10.*np.pi*Model.x) > 0.9\n",
    "on_grid_y = fn.math.sin(10.*np.pi*Model.z) > 0.9\n",
    "\n",
    "grid_conditions = [  \n",
    "                    ( on_grid_x, 1.),\n",
    "                    ( on_grid_y, 1.),\n",
    "                    ( True, -1.),\n",
    "                  ]\n",
    "\n",
    "if dim == 3:\n",
    "    for t in Model.passive_tracers.items():\n",
    "        new_var = t[1].add_variable(dataType=\"float\", count=1)\n",
    "        new_var.data[:] = fn.branching.conditional(grid_conditions).evaluate(t[1])"
   ]
  },
  {
   "cell_type": "code",
   "execution_count": null,
   "metadata": {},
   "outputs": [],
   "source": [
    "Model.passive_tracers.keys()"
   ]
  },
  {
   "cell_type": "code",
   "execution_count": null,
   "metadata": {},
   "outputs": [],
   "source": [
    "FigTracers = vis.Figure(figsize=(1200,400))\n",
    "\n",
    "# Show single colour\n",
    "# Fig.Points(Model.swarm, colour='gray', opacity=0.5, discrete=True, \n",
    "#            fn_mask=materialFilter, fn_size=2.0, colourBar=False)\n",
    "\n",
    "# Show all glory\n",
    "FigTracers.Points(Model.swarm, fn_colour=Model.materialField, \n",
    "           fn_mask=materialFilter, opacity=0.5, fn_size=2.0)\n",
    "\n",
    "def get_show_tracer(name, colours):\n",
    "    t = Model.passive_tracers.get(name)\n",
    "    if not t: raise RuntimeError(\"ERROR: fine tracer called \", name)\n",
    "    \n",
    "    FigTracers.Points(t, t.variables[-1],fn_size=2.,\n",
    "                      colours=colours,opacity=0.5,colourBar=False)\n",
    "    \n",
    "if dim == 3:\n",
    "    \n",
    "    get_show_tracer(name='orp', colours=\"#22BBBB #335588\")\n",
    "    get_show_tracer(name='slab', colours=\"Gray40 Goldenrod\")\n",
    "    get_show_tracer(name='cont', colours=\"#335588 #22BBBB\")\n",
    "    get_show_tracer(name='arc', colours=\"Goldenrod Grey41\")\n",
    "    get_show_tracer(name='buoy', colours=\"#335588 #335588\")\n",
    "\n",
    "# Rotate camera angle\n",
    "FigTracers.script(camera)\n",
    "\n",
    "# Render in notebook\n",
    "# FigTracers.show()"
   ]
  },
  {
   "cell_type": "code",
   "execution_count": null,
   "metadata": {},
   "outputs": [],
   "source": [
    "Model.minViscosity = dimensionalise(1., u.Pa * u.sec)\n",
    "Model.maxViscosity = dimensionalise(1e5, u.Pa * u.sec)"
   ]
  },
  {
   "cell_type": "code",
   "execution_count": null,
   "metadata": {},
   "outputs": [],
   "source": [
    "Model.set_velocityBCs( left=[0.,None,None], right=[0.,None,None],\n",
    "                       bottom=[None,0.,None], top=[None,0.,None],\n",
    "                       front=[None,None,0.], back=[None,None,0.])"
   ]
  },
  {
   "cell_type": "code",
   "execution_count": null,
   "metadata": {},
   "outputs": [],
   "source": [
    "Model.init_model()"
   ]
  },
  {
   "cell_type": "code",
   "execution_count": null,
   "metadata": {},
   "outputs": [],
   "source": [
    "# figViscosity = vis.Figure(figsize=figsize, axis=True)\n",
    "# figViscosity.append( vis.oGEO.rcParams[“default.outputs”]bjects.Points(swarm, viscosityFn, colours='dem1', fn_size=2., logScale=True) )\n",
    "# if dim == 3:\n",
    "#     figViscosity.script(camera)\n",
    "# figViscosity.show()"
   ]
  },
  {
   "cell_type": "code",
   "execution_count": null,
   "metadata": {},
   "outputs": [],
   "source": [
    "Fig = vis.Figure(figsize=(1200,400))\n",
    "\n",
    "# Show all glory\n",
    "Fig.Points(Model.swarm, fn_colour=Model.densityField, \n",
    "           fn_mask=materialFilter, opacity=0.5, fn_size=2.0)\n",
    "\n",
    "# Rotate camera angle\n",
    "Fig.script(camera)\n",
    "\n",
    "# Render in notebook\n",
    "# Fig.show()"
   ]
  },
  {
   "cell_type": "code",
   "execution_count": null,
   "metadata": {},
   "outputs": [],
   "source": [
    "if rank == 0:\n",
    "    with open(outputPath+'FrequentOutput.dat','a') as f:\n",
    "         f.write('step\\t time(Myr)\\t Vrms(cm/yr)\\n')\n",
    "            \n",
    "def post_solve_hook():\n",
    "    vrms = Model.stokes_SLE.velocity_rms()\n",
    "    step = Model.step\n",
    "    time = Model.time.to(u.megayear)\n",
    "    \n",
    "    if rank == 0:\n",
    "        with open(outputPath+'FrequentOutput.dat','a') as f:\n",
    "             f.write(f\"{step}\\t{time:5e}\\t{vrms:5e}\")\n",
    "        \n",
    "Model.post_solve_functions[\"Measurements\"] = post_solve_hook"
   ]
  },
  {
   "cell_type": "code",
   "execution_count": null,
   "metadata": {},
   "outputs": [],
   "source": [
    "## We can test different solvers by uncommentting this section\n",
    "# solver = Model.solver\n",
    "# # System level solver options\n",
    "# solver.options.main.Q22_pc_type = \"uwscale\"\n",
    "# solver.options.main.ksp_k2_type = \"GMG\"\n",
    "# solver.options.main.ksp_type    = \"bsscr\"\n",
    "# solver.options.main.pc_type     = \"none\"\n",
    "# solver.options.main.penalty     = 50.\n",
    "# #solver.options.main.list()\n",
    "\n",
    "# # Schur complement solver options\n",
    "# solver.options.scr.ksp_rtol = 1.0e-3 \n",
    "# solver.options.scr.ksp_type = \"fgmres\"\n",
    "# #solver.options.main.list()\n",
    "\n",
    "# # Inner solve (velocity), A11 options\n",
    "# solver.options.A11.ksp_rtol = 1.0e-4\n",
    "# solver.options.A11.ksp_type = \"fgmres\"\n",
    "# #solver.options.A11.list()\n",
    "# solver.print_petsc_options()"
   ]
  },
  {
   "cell_type": "code",
   "execution_count": null,
   "metadata": {},
   "outputs": [],
   "source": [
    "## debugging code to generate initial fields for viscosity and density ##\n",
    "# fields output used to analyse initial setup\n",
    "\n",
    "jeta = Model.add_submesh_field(name=\"cell_vis\", nodeDofCount=1)\n",
    "jrho = Model.add_submesh_field(name=\"cell_rho\", nodeDofCount=1)\n",
    "\n",
    "GEO.rcParams[\"default.outputs\"].append(\"cell_vis\")\n",
    "GEO.rcParams[\"default.outputs\"].append(\"cell_rho\")\n",
    "\n",
    "subMesh = Model.mesh.subMesh\n",
    "jeta.data[:] = Model._viscosityFn.evaluate(subMesh)\n",
    "jrho.data[:] = Model._densityFn.evaluate(subMesh)"
   ]
  },
  {
   "cell_type": "code",
   "execution_count": null,
   "metadata": {},
   "outputs": [],
   "source": [
    "Model.run_for(nstep=0, checkpoint_interval=1)"
   ]
  },
  {
   "cell_type": "code",
   "execution_count": null,
   "metadata": {},
   "outputs": [],
   "source": [
    "# Model.run_for(nstep=0, checkpoint_interval=1)"
   ]
  }
 ],
 "metadata": {
  "kernelspec": {
   "display_name": "Python 3",
   "language": "python",
   "name": "python3"
  },
  "language_info": {
   "codemirror_mode": {
    "name": "ipython",
    "version": 3
   },
   "file_extension": ".py",
   "mimetype": "text/x-python",
   "name": "python",
   "nbconvert_exporter": "python",
   "pygments_lexer": "ipython3",
   "version": "3.7.3"
  }
 },
 "nbformat": 4,
 "nbformat_minor": 1
}
