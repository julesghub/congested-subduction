{
 "cells": [
  {
   "cell_type": "markdown",
   "metadata": {},
   "source": [
    "Dynamics of continental accretion\n",
    "======\n",
    "\n",
    "This notebook outlines the Underworld model used in the Moresi (2014) paper 'Dynamics of continental accretion'. It reproduces the initial conditions shown in Extended Data Figure 1 and 2 and the numerics required for reproduce Figure 2.\n",
    "\n",
    "\"In order to better understand the behaviour of this ancient plate mar- gin and the growth of the Australian continent, we use three-dimensional (3D) dynamic models of a subducting slab, overriding plate and mantle, building on previous work14–16. The models have a four-layer subduct- ing plate with buoyancy and rheology of each layer pre-calculated from a half-space cooling model of 80 or 120 Myr age, and they include either a weak or a strong viscoplastic overriding plate (Table 1 and Extended Data Figs 1 and 2). The simulations are best understood by viewing movies of the time evolution (Table 1).\"\n",
    "\n",
    "**References**\n",
    "\n",
    "Moresi, L., P. G. Betts, M. S. Miller, and R. A. Cayley. 2014. “Dynamics of Continental Accretion.” Nature 508 (7495): 245–48. [doi:10.1038/nature13033](https://www.nature.com/articles/nature13033)"
   ]
  },
  {
   "cell_type": "code",
   "execution_count": 1,
   "metadata": {},
   "outputs": [
    {
     "name": "stdout",
     "output_type": "stream",
     "text": [
      "loaded rc file /opt/venv/lib/python3.7/site-packages/UWGeodynamics/uwgeo-data/uwgeodynamicsrc\n"
     ]
    }
   ],
   "source": [
    "# core UW bit\n",
    "import UWGeodynamics as GEO\n",
    "from UWGeodynamics import visualisation as vis\n",
    "from UWGeodynamics.scaling import units as u\n",
    "from UWGeodynamics.scaling import dimensionalise\n",
    "from UWGeodynamics.scaling import non_dimensionalise as nd\n",
    "from underworld import function as fn"
   ]
  },
  {
   "cell_type": "code",
   "execution_count": 2,
   "metadata": {},
   "outputs": [],
   "source": [
    "# 3rd party python modules\n",
    "import math\n",
    "import numpy as np\n",
    "import os\n",
    "import scipy"
   ]
  },
  {
   "cell_type": "code",
   "execution_count": 3,
   "metadata": {},
   "outputs": [],
   "source": [
    "import geo_model_properties as modprop\n",
    "import relrho_geo_material_properties as matprop\n",
    "import geo_moresi_2014_scaling"
   ]
  },
  {
   "cell_type": "code",
   "execution_count": 4,
   "metadata": {},
   "outputs": [],
   "source": [
    "# shortcuts for parallel wrappers\n",
    "barrier = GEO.uw.mpi.barrier\n",
    "rank    = GEO.rank"
   ]
  },
  {
   "cell_type": "code",
   "execution_count": 5,
   "metadata": {},
   "outputs": [
    {
     "name": "stdout",
     "output_type": "stream",
     "text": [
      "10000000.0 meter  |  0.125\n"
     ]
    }
   ],
   "source": [
    "# scaling debug check\n",
    "if rank == 0:\n",
    "    print(dimensionalise(10.,u.meters),\" | \", nd(100.*u.megapascal) )\n",
    "    #GEO.scaling.get_coefficients()"
   ]
  },
  {
   "cell_type": "markdown",
   "metadata": {},
   "source": [
    "**Setup parameters**\n"
   ]
  },
  {
   "cell_type": "code",
   "execution_count": 6,
   "metadata": {},
   "outputs": [],
   "source": [
    "# elRes = (256,96.96)\n",
    "elRes = (124, 96)\n",
    "\n",
    "dim = len(elRes)\n",
    "\n",
    "checkpoint_restart = False\n",
    "outputPath = f\"output-{elRes[0]}x{elRes[1]}x{elRes[2]}\" if dim == 3 else f\"output-{elRes[0]}x{elRes[1]}\""
   ]
  },
  {
   "cell_type": "code",
   "execution_count": 7,
   "metadata": {},
   "outputs": [],
   "source": [
    "outputPath = os.path.join(os.path.abspath(\".\"), outputPath)\n",
    "if rank==0:\n",
    "    if not os.path.exists(outputPath):\n",
    "        os.makedirs(outputPath)\n",
    "barrier()\n",
    "\n",
    "if checkpoint_restart == True:\n",
    "    # you need to define these\n",
    "    outputPath_restart = os.path.join(os.path.abspath(\".\"),\"output_checkPoint_restart/\")\n",
    "    time = 4.38067181e+03\n",
    "    step = 1"
   ]
  },
  {
   "cell_type": "markdown",
   "metadata": {},
   "source": [
    "**Create mesh and finite element variables**"
   ]
  },
  {
   "cell_type": "code",
   "execution_count": 8,
   "metadata": {},
   "outputs": [],
   "source": [
    "# Domain\n",
    "boxLength = modprop.boxLength\n",
    "boxHeight = modprop.boxHeight\n",
    "boxWidth  = modprop.boxWidth"
   ]
  },
  {
   "cell_type": "code",
   "execution_count": 9,
   "metadata": {},
   "outputs": [],
   "source": [
    "# Define our vertical unit vector using a python tuple\n",
    "if dim == 2:\n",
    "    minCoord   = (0., -boxHeight)\n",
    "    maxCoord   = (boxLength, 0.)\n",
    "    z_hat      = ( 0.0, 1.0)\n",
    "    \n",
    "else:\n",
    "    minCoord   = (0., -boxHeight, 0.)\n",
    "    maxCoord   = (boxLength, 0., boxWidth)\n",
    "    z_hat      = ( 0.0, 1.0, 0.0 )\n",
    "    \n",
    "Model = GEO.Model(elementRes = elRes,\n",
    "                  minCoord   = minCoord,\n",
    "                  maxCoord   = maxCoord,\n",
    "                  gravity    = z_hat,\n",
    "                  outputDir  = outputPath)"
   ]
  },
  {
   "cell_type": "code",
   "execution_count": 10,
   "metadata": {},
   "outputs": [],
   "source": [
    "# Parameters for the inital material layout\n",
    "\n",
    "# I assume here the origin is a the top, front, middle\n",
    "# 'middle' being the slab hinge at top, front\n",
    "\n",
    "pert = 0.3  # nondimensional pert \n",
    "slab_xStart = 2500. * u.kilometer\n",
    "slab_dx = 3000.0 * u.kilometer  # was 7000 km in Moresi 2014\n",
    "slab_dy =  100.0 * u.kilometer\n",
    "slab_dz = 3000.0 * u.kilometer # this is the entire domain width\n",
    "slab_layers = 4\n",
    "\n",
    "slab_crust = 7.0 * u.kilometer\n",
    "\n",
    "\n",
    "backarc_dx = 1200. * u.kilometer\n",
    "backarc_dy =  100. * u.kilometer\n",
    "backarc_xStart = slab_xStart - backarc_dx\n",
    "backarc_layers = 2\n",
    "\n",
    "trans_dx =  350. * u.kilometer\n",
    "trans_dy =  100. * u.kilometer\n",
    "trans_xStart = slab_xStart - backarc_dx - trans_dx\n",
    "trans_layers = 2\n",
    "\n",
    "craton_dx = 750. * u.kilometer\n",
    "craton_dy = 150. * u.kilometer\n",
    "craton_xStart = slab_xStart - backarc_dx - trans_dx - craton_dx\n",
    "craton_layers = 2\n",
    "\n",
    "ribbon_dx =  500. * u.kilometer\n",
    "ribbon_dy =   50. * u.kilometer\n",
    "ribbon_dz = 1500. * u.kilometer \n",
    "ribbon_xStart = slab_xStart + 500. * u.kilometer\n",
    "\n",
    "bouyStrip_dx = 500. * u.kilometer\n",
    "bouyStrip_dy =  50. * u.kilometer\n",
    "bouyStrip_xStart = slab_xStart + slab_dx - bouyStrip_dx"
   ]
  },
  {
   "cell_type": "code",
   "execution_count": 11,
   "metadata": {},
   "outputs": [],
   "source": [
    "#variables for initialisation of shapes\n",
    "\n",
    "slab_y1 = -0*nd(slab_crust)\n",
    "slab_y2 = -1*nd(slab_dy)/slab_layers\n",
    "slab_y3 = -2*nd(slab_dy)/slab_layers\n",
    "slab_y4 = -3*nd(slab_dy)/slab_layers\n",
    "\n",
    "s_y1 = -0*slab_dy # get dimensionality with slab_dy\n",
    "s_y2 = -1*slab_dy/slab_layers\n",
    "s_y3 = -2*slab_dy/slab_layers\n",
    "s_y4 = -3*slab_dy/slab_layers\n",
    "\n",
    "backarc_dx = 1200. * u.kilometer\n",
    "backarc_dy =  100. * u.kilometer\n",
    "backarc_xStart = slab_xStart - backarc_dx\n",
    "backarc_layers = 2\n",
    "dpert = dimensionalise(pert, u.km)\n",
    "\n",
    "backarc_y1 = -0.*nd(backarc_dy)/backarc_layers\n",
    "backarc_y2 = -1.*nd(backarc_dy)/backarc_layers\n",
    "\n",
    "trans_y1 = -0.*nd(trans_dy)\n",
    "trans_y2 = -1.*nd(trans_dy)\n",
    "\n",
    "crat_y1 = -0.*nd(craton_dy)\n",
    "crat_y2 = -1.*nd(craton_dy)"
   ]
  },
  {
   "cell_type": "code",
   "execution_count": 12,
   "metadata": {},
   "outputs": [],
   "source": [
    "# general shape functions\n",
    "def slabGeo(x, y, dx, dy):\n",
    "    shape = [ (x,y), (x+dx,y), (x+dx,y-dy), (x,y-dy), (x-dpert,y-dy-dpert), (x-dpert,y-dpert) ]\n",
    "    return GEO.shapes.Polygon(shape)\n",
    "\n",
    "def backarcGeo(x, y, dx, dy):\n",
    "    shape = [ (x,y), (x+dx,y), (x+dx-dy,y-dy), (x,y-dy)]\n",
    "    return GEO.shapes.Polygon(shape)"
   ]
  },
  {
   "cell_type": "code",
   "execution_count": 13,
   "metadata": {},
   "outputs": [],
   "source": [
    "#initialising all features as shapes\n",
    "\n",
    "# define coordinate uw.functions\n",
    "fn_x = GEO.shapes.fn.input()[0]\n",
    "fn_y = GEO.shapes.fn.input()[1]\n",
    "fn_z = GEO.shapes.fn.input()[2]\n",
    "\n",
    "op1 = slabGeo(slab_xStart, s_y1, slab_dx, slab_dy/slab_layers)\n",
    "op1_fin = Model.add_material(name=\"oceanic plate 1\", shape=op1)\n",
    "\n",
    "op2 = slabGeo(slab_xStart, s_y2, slab_dx, slab_dy/slab_layers)\n",
    "op2_fin = Model.add_material(name = \"oceanic plate 2\", shape=op2)\n",
    "\n",
    "op3 = slabGeo(slab_xStart, s_y3, slab_dx, slab_dy/slab_layers)\n",
    "op3_fin = Model.add_material(name = \"oceanic plate 3\", shape=op3)\n",
    "\n",
    "op4 = slabGeo(slab_xStart, s_y4, slab_dx, slab_dy/slab_layers)\n",
    "op4_fin = Model.add_material(name = \"oceanic plate 4\", shape=op4)\n",
    "\n",
    "ba1 = backarcGeo(backarc_xStart, 0.*u.km, backarc_dx, 50.*u.km)\n",
    "ba1_fin = Model.add_material(name=\"backArc1\", shape=ba1)\n",
    "\n",
    "ba2 = backarcGeo(backarc_xStart, -50.*u.km, backarc_dx-50*u.km, 50.*u.km)\n",
    "ba2_fin = Model.add_material(name=\"backArc2\", shape=ba2)\n",
    "\n",
    "\n",
    "t1 = GEO.shapes.Box(top=Model.top,      bottom=-trans_dy/trans_layers, \n",
    "                    minX=trans_xStart, maxX=trans_xStart+trans_dx)\n",
    "t1_fin = Model.add_material(name=\"trans1\", shape=t1)\n",
    "\n",
    "\n",
    "t2 = GEO.shapes.Box(top=-trans_dy/trans_layers, bottom=-trans_dy, \n",
    "                    minX=trans_xStart, maxX=trans_xStart+trans_dx)\n",
    "t2_fin = Model.add_material(name=\"trans2\", shape=t2)\n",
    "\n",
    "\n",
    "c1 = GEO.shapes.Box(top=Model.top,      bottom=-craton_dy/craton_layers, \n",
    "                    minX=craton_xStart, maxX=craton_xStart+craton_dx)\n",
    "c1_fin = Model.add_material(name=\"craton1\", shape=c1)\n",
    "\n",
    "\n",
    "c2 = GEO.shapes.Box(top=-craton_dy/craton_layers, bottom=-craton_dy,\n",
    "                    minX=craton_xStart, maxX=craton_xStart+craton_dx)\n",
    "c2_fin = Model.add_material(name=\"craton2\", shape=c2)\n",
    "\n",
    "\n",
    "bs = GEO.shapes.Polygon(vertices=[(nd(bouyStrip_xStart), 0.),\n",
    "                             (nd(bouyStrip_xStart+bouyStrip_dx), 0.),\n",
    "                             (nd(bouyStrip_xStart+bouyStrip_dx), 0.-nd(bouyStrip_dy)),\n",
    "                             (nd(bouyStrip_xStart), 0.-nd(bouyStrip_dy))])\n",
    "bs_fin = Model.add_material(name=\"buoyStrip\", shape=bs)\n",
    "\n",
    "# always make 2D ribbon shape, if dim == 3 it's overwritten\n",
    "rib_shape = GEO.shapes.Box(top=0*u.km, bottom=-50*u.km,\n",
    "                           minX=ribbon_xStart, maxX=ribbon_xStart+ribbon_dx)\n",
    "\n",
    "if dim == 3:\n",
    "    # angle we want the ribbon rotated, can be +ve or -ve\n",
    "    ang = 0\n",
    "    rad = np.radians(ang)\n",
    "\n",
    "    # calculated associated half space normals\n",
    "    nx = -np.cos(rad)\n",
    "    nz = np.sin(rad)\n",
    "\n",
    "    # floor\n",
    "    hsp1 = GEO.shapes.HalfSpace(normal=(0.,-1.,0.), origin=(0, -50*u.km, 0.))\n",
    "    # front\n",
    "    hsp2 = GEO.shapes.HalfSpace(normal=(nx, 0, nz), origin=(ribbon_xStart,0.,Model.maxCoord[2]))\n",
    "    # back\n",
    "    hsp3 = GEO.shapes.HalfSpace(normal=(-nx, 0, -nz), origin=(ribbon_xStart+ribbon_dx,0.,Model.maxCoord[2]))\n",
    "    # width\n",
    "    hsp4 = GEO.shapes.HalfSpace(normal=(0, 0, -1), origin=(0.,0.,ribbon_dz))\n",
    "\n",
    "    rib_shape = hsp1&hsp2&hsp3&hsp4\n",
    "\n",
    "rib = Model.add_material(name=\"ribbon\", shape=rib_shape)\n",
    "\n",
    "\n",
    "op_change = Model.add_material(name=\"oceanic plate 1 after phase change\")\n",
    "\n",
    "lm = Model.add_material(name=\"lower mantle\", shape= fn_y < nd(-600.0 * 10**3 * u.meter))\n",
    "\n",
    "added_material_list = [lm, op1_fin, op2_fin, op3_fin, op4_fin, ba1_fin, ba2_fin, t1_fin, \n",
    "                       t2_fin, c1_fin, c2_fin, bs_fin, op_change, rib]"
   ]
  },
  {
   "cell_type": "code",
   "execution_count": 14,
   "metadata": {},
   "outputs": [
    {
     "data": {
      "text/plain": [
       "'zoom 100'"
      ]
     },
     "execution_count": 14,
     "metadata": {},
     "output_type": "execute_result"
    }
   ],
   "source": [
    "figsize=(1000,300)\n",
    "camera = ['zoom 100']#['rotate x 30']\n",
    "boundingBox=( minCoord, maxCoord )\n",
    "\n",
    "materialFilter = Model.materialField > 0\n",
    "\n",
    "\n",
    "# ERROR with boundaringBox, maybe BUG for Okaluza\n",
    "# figSwarm = vis.Figure(figsize=figsize, boundingBox=boundingBox )\n",
    "\n",
    "# swarmPlot = vis.objects.Points(swarm, materialIndex, materialFilter, colours='gray', opacity=0.5, fn_size=2., \n",
    "#                                     discrete=True, colourBar=False, )\n",
    "\n",
    "Fig = vis.Figure(figsize=(1200,400))\n",
    "\n",
    "# Show single colour\n",
    "# Fig.Points(Model.swarm, colour='gray', opacity=0.5, discrete=True, \n",
    "#            fn_mask=materialFilter, fn_size=2.0, colourBar=False)\n",
    "\n",
    "# Show all glory\n",
    "Fig.Points(Model.swarm, fn_colour=Model.materialField, \n",
    "           fn_mask=materialFilter, opacity=0.5, fn_size=2.0)\n",
    "\n",
    "# Save image to disk\n",
    "# Fig.save(\"Figure_1.png\")\n",
    "\n",
    "# Rotate camera angle\n",
    "Fig.script(camera)\n",
    "\n",
    "# Render in notebook\n",
    "# Fig.show()\n",
    "\n",
    "# Fig.window()"
   ]
  },
  {
   "cell_type": "code",
   "execution_count": 15,
   "metadata": {},
   "outputs": [
    {
     "name": "stdout",
     "output_type": "stream",
     "text": [
      "lower mantle\n",
      "oceanic plate 1 after phase change\n",
      "ribbon\n",
      "buoyStrip\n",
      "craton2\n",
      "craton1\n",
      "trans2\n",
      "trans1\n",
      "backArc2\n",
      "backArc1\n",
      "oceanic plate 4\n",
      "oceanic plate 3\n",
      "oceanic plate 2\n",
      "oceanic plate 1\n",
      "Model\n"
     ]
    }
   ],
   "source": [
    "for i in Model.materials:\n",
    "    print(i.name)"
   ]
  },
  {
   "cell_type": "code",
   "execution_count": 16,
   "metadata": {},
   "outputs": [
    {
     "name": "stdout",
     "output_type": "stream",
     "text": [
      "lower mantle\n",
      "oceanic plate 1 after phase change\n",
      "ribbon\n",
      "buoyStrip\n",
      "craton2\n",
      "craton1\n",
      "trans2\n",
      "trans1\n",
      "backArc2\n",
      "backArc1\n",
      "oceanic plate 4\n",
      "oceanic plate 3\n",
      "oceanic plate 2\n",
      "oceanic plate 1\n",
      "Model\n"
     ]
    }
   ],
   "source": [
    "#assigning properties (density, viscosity, etc) to shapes.\n",
    "# N.B. the default material 'Model' is assigned the 'upper mantle' properties\n",
    "\n",
    "for i in Model.materials:\n",
    "    for j in matprop.material_list:\n",
    "        if i.name == j[\"name\"]:\n",
    "            print(i.name)\n",
    "            i.density = j[\"density\"]\n",
    "            i.viscosity = j[\"viscosity\"]\n",
    "            c0 = j[\"cohesion\"] if j.get('cohesion') else None\n",
    "            c1 = j[\"cohesion2\"] if j.get('cohesion2') else c0\n",
    "            if c0 is not None:\n",
    "                i.plasticity = GEO.VonMises(cohesion = c0, cohesionAfterSoftening = c1)"
   ]
  },
  {
   "cell_type": "markdown",
   "metadata": {},
   "source": [
    "**Eclogite transition**\n",
    "\n",
    "Assume that the oceanic crust transforms instantaneously and completely to eclogite at a depth of 150 km"
   ]
  },
  {
   "cell_type": "code",
   "execution_count": 17,
   "metadata": {},
   "outputs": [],
   "source": [
    "op1.phase_changes = GEO.PhaseChange((Model.y < nd(-150.*u.kilometers)),\n",
    "                                          op_change.index)"
   ]
  },
  {
   "cell_type": "code",
   "execution_count": 18,
   "metadata": {},
   "outputs": [
    {
     "data": {
      "text/html": [
       "<img src='data:image/png;base64,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'>"
      ],
      "text/plain": [
       "<IPython.core.display.HTML object>"
      ]
     },
     "metadata": {},
     "output_type": "display_data"
    }
   ],
   "source": [
    "figsize=(1000,300)\n",
    "camera = ['rotate x 30']\n",
    "boundingBox=( minCoord, maxCoord )\n",
    "\n",
    "materialFilter = Model.materialField > -1\n",
    "\n",
    "\n",
    "# ERROR with boundaringBox, maybe BUG for Okaluza\n",
    "# figSwarm = vis.Figure(figsize=figsize, boundingBox=boundingBox )\n",
    "\n",
    "# swarmPlot = vis.objects.Points(swarm, materialIndex, materialFilter, colours='gray', opacity=0.5, fn_size=2., \n",
    "#                                     discrete=True, colourBar=False, )\n",
    "\n",
    "Fig = vis.Figure(figsize=(1200,400))\n",
    "\n",
    "# Show single colour\n",
    "# Fig.Points(Model.swarm, colour='gray', opacity=0.5, discrete=True, \n",
    "#            fn_mask=materialFilter, fn_size=2.0, colourBar=False)\n",
    "\n",
    "# Show all glory\n",
    "Fig.Points(Model.swarm, fn_colour=Model.materialField, \n",
    "           fn_mask=materialFilter, opacity=0.5, fn_size=2.0)\n",
    "\n",
    "# Save image to disk\n",
    "# Fig.save(\"Figure_1.png\")\n",
    "\n",
    "# Rotate camera angle\n",
    "Fig.script(camera)\n",
    "\n",
    "# Render in notebook\n",
    "# Fig.show()"
   ]
  },
  {
   "cell_type": "code",
   "execution_count": 19,
   "metadata": {},
   "outputs": [],
   "source": [
    "# build 3D surface tracers, ie y=0. NOT available for 2D\n",
    "def tracer_coords(name, minX, maxX, minZ, maxZ):\n",
    "    \n",
    "    xx = np.linspace(minX, maxX, max(1, int(maxX-minX))*100)\n",
    "    yy = np.zeros(1)\n",
    "    zz = np.linspace(minZ, maxZ, max(1, int(maxX-minX))*100)\n",
    "\n",
    "    xx, yy, zz = np.meshgrid(xx,yy,zz)\n",
    "        \n",
    "    tracers = Model.add_passive_tracers(name,\n",
    "                                        vertices  = [0.,0.,0.],\n",
    "                                        centroids = [xx, yy, zz]) "
   ]
  },
  {
   "cell_type": "code",
   "execution_count": 20,
   "metadata": {},
   "outputs": [],
   "source": [
    "# Over-riding plate particles\n",
    "tracer_coords(\"orp\", nd(backarc_xStart),nd(slab_xStart),\n",
    "              0., nd(boxWidth))\n",
    "tracer_coords(\"slab\",nd(slab_xStart),nd(bouyStrip_xStart),\n",
    "              0., nd(slab_dz))\n",
    "tracer_coords(\"cont\", nd(craton_xStart), nd(backarc_xStart),\n",
    "              0., nd(boxWidth))\n",
    "tracer_coords(\"arc\", nd(ribbon_xStart), nd(ribbon_xStart+ribbon_dx),\n",
    "              nd(ribbon_dz), nd(boxWidth))\n",
    "tracer_coords(\"buoy\", nd(bouyStrip_xStart), nd(slab_xStart+slab_dx),\n",
    "              0., nd(slab_dz))"
   ]
  },
  {
   "cell_type": "code",
   "execution_count": 21,
   "metadata": {},
   "outputs": [],
   "source": [
    "on_grid_x = fn.math.sin(10.*np.pi*Model.x) > 0.9\n",
    "on_grid_y = fn.math.sin(10.*np.pi*Model.z) > 0.9\n",
    "\n",
    "grid_conditions = [  \n",
    "                    ( on_grid_x, 1.),\n",
    "                    ( on_grid_y, 1.),\n",
    "                    ( True, -1.),\n",
    "                  ]\n",
    "\n",
    "if dim == 3:\n",
    "    for t in Model.passive_tracers.items():\n",
    "        new_var = t[1].add_variable(dataType=\"float\", count=1)\n",
    "        new_var.data[:] = fn.branching.conditional(grid_conditions).evaluate(t[1])"
   ]
  },
  {
   "cell_type": "code",
   "execution_count": 22,
   "metadata": {},
   "outputs": [
    {
     "data": {
      "text/plain": [
       "odict_keys(['orp', 'slab', 'cont', 'arc', 'buoy'])"
      ]
     },
     "execution_count": 22,
     "metadata": {},
     "output_type": "execute_result"
    }
   ],
   "source": [
    "Model.passive_tracers.keys()"
   ]
  },
  {
   "cell_type": "code",
   "execution_count": 23,
   "metadata": {},
   "outputs": [
    {
     "data": {
      "text/plain": [
       "'rotate x 30'"
      ]
     },
     "execution_count": 23,
     "metadata": {},
     "output_type": "execute_result"
    }
   ],
   "source": [
    "FigTracers = vis.Figure(figsize=(1200,400))\n",
    "\n",
    "# Show single colour\n",
    "# Fig.Points(Model.swarm, colour='gray', opacity=0.5, discrete=True, \n",
    "#            fn_mask=materialFilter, fn_size=2.0, colourBar=False)\n",
    "\n",
    "# Show all glory\n",
    "FigTracers.Points(Model.swarm, fn_colour=Model.materialField, \n",
    "           fn_mask=materialFilter, opacity=0.5, fn_size=2.0)\n",
    "\n",
    "def get_show_tracer(name, colours):\n",
    "    t = Model.passive_tracers.get(name)\n",
    "    if not t: raise RuntimeError(\"ERROR: fine tracer called \", name)\n",
    "    \n",
    "    FigTracers.Points(t, t.variables[-1],fn_size=2.,\n",
    "                      colours=colours,opacity=0.5,colourBar=False)\n",
    "    \n",
    "if dim == 3:\n",
    "    \n",
    "    get_show_tracer(name='orp', colours=\"#22BBBB #335588\")\n",
    "    get_show_tracer(name='slab', colours=\"Gray40 Goldenrod\")\n",
    "    get_show_tracer(name='cont', colours=\"#335588 #22BBBB\")\n",
    "    get_show_tracer(name='arc', colours=\"Goldenrod Grey41\")\n",
    "    get_show_tracer(name='buoy', colours=\"#335588 #335588\")\n",
    "\n",
    "# Rotate camera angle\n",
    "FigTracers.script(camera)\n",
    "\n",
    "# Render in notebook\n",
    "# FigTracers.show()"
   ]
  },
  {
   "cell_type": "code",
   "execution_count": 24,
   "metadata": {},
   "outputs": [],
   "source": [
    "Model.minViscosity = dimensionalise(1., u.Pa * u.sec)\n",
    "Model.maxViscosity = dimensionalise(1e5, u.Pa * u.sec)"
   ]
  },
  {
   "cell_type": "code",
   "execution_count": 25,
   "metadata": {},
   "outputs": [
    {
     "data": {
      "text/plain": [
       "<underworld.conditions._conditions.DirichletCondition at 0x7f92923db860>"
      ]
     },
     "execution_count": 25,
     "metadata": {},
     "output_type": "execute_result"
    }
   ],
   "source": [
    "Model.set_velocityBCs( left=[0.,None,None], right=[0.,None,None],\n",
    "                       bottom=[None,0.,None], top=[None,0.,None],\n",
    "                       front=[None,None,0.], back=[None,None,0.])"
   ]
  },
  {
   "cell_type": "code",
   "execution_count": 26,
   "metadata": {},
   "outputs": [],
   "source": [
    "Model.init_model()"
   ]
  },
  {
   "cell_type": "code",
   "execution_count": 27,
   "metadata": {},
   "outputs": [],
   "source": [
    "# figViscosity = vis.Figure(figsize=figsize, axis=True)\n",
    "# figViscosity.append( vis.oGEO.rcParams[“default.outputs”]bjects.Points(swarm, viscosityFn, colours='dem1', fn_size=2., logScale=True) )\n",
    "# if dim == 3:\n",
    "#     figViscosity.script(camera)\n",
    "# figViscosity.show()"
   ]
  },
  {
   "cell_type": "code",
   "execution_count": 28,
   "metadata": {},
   "outputs": [
    {
     "data": {
      "text/plain": [
       "'rotate x 30'"
      ]
     },
     "execution_count": 28,
     "metadata": {},
     "output_type": "execute_result"
    }
   ],
   "source": [
    "Fig = vis.Figure(figsize=(1200,400))\n",
    "\n",
    "# Show all glory\n",
    "Fig.Points(Model.swarm, fn_colour=Model.densityField, \n",
    "           fn_mask=materialFilter, opacity=0.5, fn_size=2.0)\n",
    "\n",
    "# Rotate camera angle\n",
    "Fig.script(camera)\n",
    "\n",
    "# Render in notebook\n",
    "# Fig.show()"
   ]
  },
  {
   "cell_type": "code",
   "execution_count": 29,
   "metadata": {},
   "outputs": [],
   "source": [
    "fout = outputPath+'/FrequentOutput.dat'\n",
    "if rank == 0:\n",
    "    with open(fout,'a') as f:\n",
    "         f.write('step\\t time(Myr)\\t Vrms(cm/yr)\\n')\n",
    "            \n",
    "def post_solve_hook():\n",
    "    vrms = Model.stokes_SLE.velocity_rms()\n",
    "    step = Model.step\n",
    "    time = Model.time.to(u.megayear)\n",
    "    \n",
    "    if rank == 0:\n",
    "        with open(fout,'a') as f:\n",
    "             f.write(f\"{step}\\t{time:5e}\\t{vrms:5e}\")\n",
    "        \n",
    "Model.post_solve_functions[\"Measurements\"] = post_solve_hook"
   ]
  },
  {
   "cell_type": "code",
   "execution_count": 30,
   "metadata": {},
   "outputs": [],
   "source": [
    "## We can test different solvers by uncommentting this section\n",
    "# solver = Model.solver\n",
    "# # System level solver options\n",
    "# solver.options.main.Q22_pc_type = \"uwscale\"\n",
    "# solver.options.main.ksp_k2_type = \"GMG\"\n",
    "# solver.options.main.ksp_type    = \"bsscr\"\n",
    "# solver.options.main.pc_type     = \"none\"\n",
    "# solver.options.main.penalty     = 50.\n",
    "# #solver.options.main.list()\n",
    "\n",
    "# # Schur complement solver options\n",
    "# solver.options.scr.ksp_rtol = 1.0e-3 \n",
    "# solver.options.scr.ksp_type = \"fgmres\"\n",
    "# #solver.options.main.list()\n",
    "\n",
    "# # Inner solve (velocity), A11 options\n",
    "# solver.options.A11.ksp_rtol = 1.0e-4\n",
    "# solver.options.A11.ksp_type = \"fgmres\"\n",
    "# #solver.options.A11.list()\n",
    "# solver.print_petsc_options()"
   ]
  },
  {
   "cell_type": "code",
   "execution_count": 31,
   "metadata": {},
   "outputs": [],
   "source": [
    "## debugging code to generate initial fields for viscosity and density ##\n",
    "# fields output used to analyse initial setup\n",
    "\n",
    "jeta = Model.add_submesh_field(name=\"cell_vis\", nodeDofCount=1)\n",
    "jrho = Model.add_submesh_field(name=\"cell_rho\", nodeDofCount=1)\n",
    "\n",
    "GEO.rcParams[\"default.outputs\"].append(\"cell_vis\")\n",
    "GEO.rcParams[\"default.outputs\"].append(\"cell_rho\")\n",
    "\n",
    "subMesh = Model.mesh.subMesh\n",
    "jeta.data[:] = Model._viscosityFn.evaluate(subMesh)\n",
    "jrho.data[:] = Model._densityFn.evaluate(subMesh)"
   ]
  },
  {
   "cell_type": "code",
   "execution_count": 32,
   "metadata": {},
   "outputs": [
    {
     "name": "stdout",
     "output_type": "stream",
     "text": [
      "Running with UWGeodynamics version 2.9.1\n",
      "Options:  -Q22_pc_type uw -ksp_type bsscr -pc_type none -ksp_k2_type NULL -rescale_equations False -remove_constant_pressure_null_space False -change_backsolve False -change_A11rhspresolve False -restore_K False -A11_ksp_type fgmres -A11_ksp_rtol 1e-06 -scr_ksp_type fgmres -scr_ksp_rtol 1e-05\n"
     ]
    },
    {
     "data": {
      "text/plain": [
       "1"
      ]
     },
     "execution_count": 32,
     "metadata": {},
     "output_type": "execute_result"
    }
   ],
   "source": [
    "Model.run_for(nstep=0, checkpoint_interval=1)"
   ]
  },
  {
   "cell_type": "code",
   "execution_count": null,
   "metadata": {},
   "outputs": [],
   "source": [
    "# Model.run_for(nstep=1, checkpoint_interval=1)"
   ]
  }
 ],
 "metadata": {
  "kernelspec": {
   "display_name": "Python 3",
   "language": "python",
   "name": "python3"
  },
  "language_info": {
   "codemirror_mode": {
    "name": "ipython",
    "version": 3
   },
   "file_extension": ".py",
   "mimetype": "text/x-python",
   "name": "python",
   "nbconvert_exporter": "python",
   "pygments_lexer": "ipython3",
   "version": "3.7.3"
  }
 },
 "nbformat": 4,
 "nbformat_minor": 1
}
